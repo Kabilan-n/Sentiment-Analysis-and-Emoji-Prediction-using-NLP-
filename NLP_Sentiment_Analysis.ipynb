{
 "cells": [
  {
   "cell_type": "markdown",
   "metadata": {},
   "source": [
    "<H2><CENTER> Sentiment Analysis<CENTER><H2>"
   ]
  },
  {
   "cell_type": "markdown",
   "metadata": {},
   "source": [
    "### Importing necessary packages"
   ]
  },
  {
   "cell_type": "code",
   "execution_count": 1,
   "metadata": {},
   "outputs": [],
   "source": [
    "import re\n",
    "import time\n",
    "import codecs\n",
    "import numpy as np\n",
    "import pandas as pd\n",
    "from cltk.stop.classical_hindi.stops import STOPS_LIST\n",
    "import matplotlib.pyplot as plt"
   ]
  },
  {
   "cell_type": "code",
   "execution_count": 2,
   "metadata": {},
   "outputs": [],
   "source": [
    "from sklearn.feature_extraction.text import CountVectorizer, TfidfVectorizer "
   ]
  },
  {
   "cell_type": "code",
   "execution_count": 3,
   "metadata": {},
   "outputs": [],
   "source": [
    "import spacy\n",
    "from spacy.lang.te import STOP_WORDS as STOP_WORDS_TE\n",
    "from spacy.lang.hi import STOP_WORDS as STOP_WORDS_HI\n",
    "with codecs.open(\"Data/telugu_stopwords.txt\", encoding='utf-8') as f:\n",
    "    stop_txt_te = f.read()\n",
    "with codecs.open(\"Data/bengalistop.txt\", encoding='utf-8') as g:\n",
    "    stop_txt_be = g.read()\n",
    "stop_te = stop_txt_te.splitlines()\n",
    "stop_be = stop_txt_be.splitlines()"
   ]
  },
  {
   "cell_type": "code",
   "execution_count": 4,
   "metadata": {},
   "outputs": [],
   "source": [
    "from sklearn.model_selection import train_test_split, GridSearchCV\n",
    "from sklearn.preprocessing import LabelEncoder\n",
    "from sklearn.metrics import accuracy_score, f1_score, precision_score, recall_score, confusion_matrix\n",
    "from sklearn.svm import SVC\n",
    "from sklearn.neural_network import MLPClassifier\n",
    "from sklearn.tree import DecisionTreeClassifier\n",
    "from sklearn.naive_bayes import GaussianNB\n",
    "from sklearn.neighbors import KNeighborsClassifier\n",
    "from sklearn.ensemble import RandomForestClassifier\n",
    "from sklearn.feature_extraction.text import CountVectorizer, TfidfVectorizer \n",
    "from sklearn.manifold import TSNE\n",
    "from sklearn.preprocessing import StandardScaler"
   ]
  },
  {
   "cell_type": "markdown",
   "metadata": {},
   "source": [
    "### Reading files"
   ]
  },
  {
   "cell_type": "code",
   "execution_count": 5,
   "metadata": {},
   "outputs": [
    {
     "name": "stdout",
     "output_type": "stream",
     "text": [
      "24ఎస్టీయూ తెలంగాణ24 చరిత్రలో ఈ రోజు/అక్టోబర్ 24 󾔖ఐక్యరాజ్య సమితి పతాకం󾔖 󾔖ఐక్యరాజ్యసమితి దినోత్సవం󾔖 󾭺1577 :...\n",
      "ఈరోజు పుట్టిన రోజు జరుపుకుంటున్న మా అభిమాన హీరోకి ఇవే మా హృదయపూర్వక జన్మదిన శుభాకాంక్షలు.. #ప్రభాస్\n",
      "ఈరోజు పుట్టిన రోజు జరుపుకుంటున్న మా అభిమాన హీరో #ప్రభాస్ కిఇవే మా హృదయపూర్వక జన్మదిన శుభాకాంక్షలు\n",
      "*_BE A LIGHT INTO YOURSELF_* *మనం మానసిక ప్రశాంతతను ఎలా పొందవచ్చు.* మానసిక ప్రశాంతత ఇది ఎక్కడ...\n",
      "అమ్మకు ఎంత గౌరవమిస్తున్నారో భార్యకు కూడా అంతే ఇవ్వండి.. ఎందుకంటే ఒకరు *చందమామ* చూపిస్తారు.. మరొకరు *చుక్కలు* చూపిస్తారు..!!\n",
      "నీ ప్రమేయం లేకుండా నిన్ను ఎవరూ నాశనం చేయలేరు, అది తెలుసుకుంటే.. నీకు ఒకర్ని నిందించే అవసరం ఎప్పుడూ రాదు; శుభోదయం..!!\n",
      "పరిస్థితులెలా ఉన్నా నీ కర్తవ్యం నీకు గుర్తుంటే.. జరగాల్సిన పనులు జరుగు తుంటాయి; శుభోదయం..!!\n",
      "నీకు అందని దానికోసం ఆశపడకు, నీకు నచ్చని దానికోసం కష్టపడకు, నీకై కష్టపడేవారిని మరిచిపోకు, నిన్ను ఇష్టపడేవారిని వదులు కోకు. శుభోదయం..!!\n",
      "దీపావళి శుభాకాంక్షలు. మన పద్దతి ప్రకారమే అయితే దీపాలు ఆర్పకూడదు. అలా ఈసారి దీపావళి నాకు ఓరోజు ముందే వచ్సినట్టే.\n",
      "krish tweet ....\n"
     ]
    }
   ],
   "source": [
    "with codecs.open(\"Data/telugu.txt\", encoding='utf-8') as f:\n",
    "    txt1 = f.read()#to read the total file\n",
    "print(txt1[0:1000])"
   ]
  },
  {
   "cell_type": "code",
   "execution_count": 6,
   "metadata": {},
   "outputs": [
    {
     "name": "stdout",
     "output_type": "stream",
     "text": [
      "আমি জানি এই জীবনটারঙীন!তাইবলেএমনরঙে জীবনটাকে রাঙিয়ে তুলুন না,যাতে করেপরো জীবন এ আপনাররঙের সাথী হয় জাহান্নামে লালআগুন একটু হলেও ভাবুন\n",
      "আমি নির্বাক #MASH বস হেডস অফ টু ইউ কাপালি দ্যা হিউম্যান যাকে আইসিএল এ আমরা বিস্ফোরক হতে দেখেছি এবং তারই একটা শোডাউন #CHAMP\n",
      "একটি ডায়গনিস্টিক বা মলত্যাগ: ((;´☋｀;)):ঈশ্বরের ডায়গনিস্টিক বা: ((;´☋｀;)):আমি বিষ্ঠা নির্ণয়েররররররররররーーーーーーーーーー！！！！！！！！\n",
      "জিনঁ আমি আপনি ভালবাসেন এবং আপনি আমাকে হত্যা প্রেম .. مجرد نصيحه وكل واحد حر بنفسه — . …\n",
      "#ঠিক_এমন_এভাবে #তুই_থেকে_যা_স্বভাবে #আমি_বুঝেছি_কদিনেই #আর_তুই_ছাড়া_গতি_নেই\n",
      "যখন থাকো কাছে উষ্ণ প্রেমের আঁচে হয়ে যাই ঘুড়ী এক সাথে উড়ি, যখন যাও দূরে মনটা হয় ভবঘুরে আমি আর এ হৃদয় একসাথে পুড়ি......\n",
      "আমি চেষ্টা করবো তিন জায়গায় ভালো করার যেহেতু আমি বোলিংও করতে পারি ব্যাটসম্যান আছি ফিল্ডারও আছি মূল কথা হচ্ছে শতভাগ দেয়ার চেষ্টা করবো.\n",
      "বালিকা,, তুমি লাইটার হয়ে যাও;) আমি,, বিড়িটা একটু ধরাই বিড়ি টানতে মন চাইতাছে\n",
      "#In_a_relationship এর বাংলা অনুবাদ: আমি জেনেশুনে আগুনে ঝাপ দিলাম! -_--_-\n",
      "দিনশেষে এইটাই প্রাপ্তি... যে, আমি কে?? তুম\n"
     ]
    }
   ],
   "source": [
    "with codecs.open(\"Data/bengali_data.txt\", encoding='utf-8') as f:\n",
    "    txt2 = f.read()#to read the total file\n",
    "print(txt2[0:1000])"
   ]
  },
  {
   "cell_type": "code",
   "execution_count": 7,
   "metadata": {},
   "outputs": [
    {
     "name": "stdout",
     "output_type": "stream",
     "text": [
      "कुछ भी हो जाये आज का मैच हारू या जीतू भाई लेकिन पाण्डेय ने साबित कर दिया की हम जनरल वाले गिरते लडखडाते मंजिल तक पहुच ही जाते हैं!liveअपडेट\n",
      "नसा चडाउने रुप तिम्रो मायाले हेर्दा फेरिन्छ की आशा बढाउने साथ तिम्रो आशैआशले घेरिन्छ की\n",
      "अब सुबह की वो एक्स्ट्रा दो घण्टे की नींद अरमान बन कर रह गयी है। शायद मेच्योरिटी/ जिम्मेदारी सबसे पहले नींद पर असर डालती है\n",
      "Abp न्यूज़ वाले तो ऐसे हनीप्रीत के पीछे लगे हुए हैं, जैसे की उनके ex gf वापिस आ गयी हो।\n",
      "सोचेंगे हमकि क्यूँ दिल को भातेहो बोलेंगे कि क्यूँ इतना दिल को लुभातेहो कहदो आज तुमभी अपने दिल से नही है प्यार फिर इंतजार क्यूँ करतेहो #moon\n",
      "आज की #FunKiBaat में बहुत ही मज़ा आया (बउआ भाई), सुषमा जी के और हाफिज के बातो का मेल खूब पसंद आया।। लगे रहो और ऐसे ही हँसाते रहो\n",
      "सारे शहर में उनकी कामयाबी के चर्चे हैं और एक हम हैं उनके इतने अज़ीज़ कि हमको उनकी खबर तक नही #moon\n",
      "राहुल गांधी, जब सत्ता में नहीं मंदिरों का दौरा कर रहे हैं, जब सत्ता में थे कोर्ट में कहा कि \"राम कभी था ही नहीं\" गुजरात वालो समझ जाओ!\n",
      "भारत सरकार की पडोसी देश अफगानिस्तान की मदद करना बहुत ही अच्छ\n"
     ]
    }
   ],
   "source": [
    "with codecs.open(\"Data/hindi.txt\", encoding='utf-8') as f:\n",
    "    txt3 = f.read()#to read the total file\n",
    "print(txt3[0:1000])"
   ]
  },
  {
   "cell_type": "code",
   "execution_count": 8,
   "metadata": {
    "scrolled": true
   },
   "outputs": [],
   "source": [
    "#telugu\n",
    "sentiment_te = (pd.read_csv(\"Data/telugu.csv\"))\n",
    "sentiment_te = sentiment_te[\"label\"].tolist() "
   ]
  },
  {
   "cell_type": "code",
   "execution_count": 9,
   "metadata": {},
   "outputs": [],
   "source": [
    "#bengali\n",
    "sentiment_be = (pd.read_csv(\"Data/bengali_data.csv\"))\n",
    "sentiment_be = sentiment_be[\"label\"].tolist() "
   ]
  },
  {
   "cell_type": "code",
   "execution_count": 10,
   "metadata": {},
   "outputs": [],
   "source": [
    "#hindi\n",
    "sentiment_hi = (pd.read_csv(\"Data/hindi.csv\"))\n",
    "sentiment_hi = sentiment_hi[\"label\"].tolist() "
   ]
  },
  {
   "cell_type": "markdown",
   "metadata": {},
   "source": [
    "### Conversion - Labels ###"
   ]
  },
  {
   "cell_type": "code",
   "execution_count": 11,
   "metadata": {},
   "outputs": [],
   "source": [
    "#TELUGU\n",
    "#postive=2\n",
    "#neutral=0\n",
    "#negative=1\n",
    "for i in range(0,len(sentiment_te)):\n",
    "    if(sentiment_te[i]==19 or sentiment_te[i]==18 or sentiment_te[i]==17 or sentiment_te[i]==13 or sentiment_te[i]==12 or sentiment_te[i]==11 or sentiment_te[i]==9 or sentiment_te[i]==8   ):\n",
    "        sentiment_te[i]=\"ne\"\n",
    "    elif(sentiment_te[i]==15 or sentiment_te[i]==16):\n",
    "        sentiment_te[i]=\"neg\"\n",
    "    else:\n",
    "        sentiment_te[i]=\"pos\""
   ]
  },
  {
   "cell_type": "code",
   "execution_count": 12,
   "metadata": {},
   "outputs": [],
   "source": [
    "#BENGALI\n",
    "#postive=2\n",
    "#neutral=0\n",
    "#negative=1\n",
    "for i in range(0,len(sentiment_be)):\n",
    "    if(sentiment_be[i]==19 or sentiment_be[i]==18 or sentiment_be[i]==17 or sentiment_be[i]==13 or sentiment_be[i]==12 or sentiment_be[i]==11 or sentiment_be[i]==9 or sentiment_be[i]==8):\n",
    "        sentiment_be[i]=\"ne\"\n",
    "    elif(sentiment_be[i]==15 or sentiment_be[i]==16):\n",
    "        sentiment_be[i]=\"neg\"\n",
    "    else:\n",
    "        sentiment_be[i]=\"pos\""
   ]
  },
  {
   "cell_type": "code",
   "execution_count": 13,
   "metadata": {},
   "outputs": [],
   "source": [
    "#HINDI\n",
    "#postive=2\n",
    "#neutral=0\n",
    "#negative=1\n",
    "for i in range(0,len(sentiment_hi)):\n",
    "    if(sentiment_hi[i]==19 or sentiment_hi[i]==18 or sentiment_hi[i]==17 or sentiment_hi[i]==13 or sentiment_hi[i]==12 or sentiment_hi[i]==11 or sentiment_hi[i]==9 or sentiment_hi[i]==8):\n",
    "        sentiment_hi[i]=\"ne\"\n",
    "    elif(sentiment_hi[i]==15 or sentiment_hi[i]==16):\n",
    "        sentiment_hi[i]=\"neg\"\n",
    "    else:\n",
    "        sentiment_hi[i]=\"pos\""
   ]
  },
  {
   "cell_type": "markdown",
   "metadata": {},
   "source": [
    "### Cleaning Text"
   ]
  },
  {
   "cell_type": "code",
   "execution_count": 14,
   "metadata": {},
   "outputs": [],
   "source": [
    "#telugu\n",
    "def remove_punct_te(text):\n",
    "    new_words = \" \"\n",
    "    for word in text:\n",
    "        if word not in STOP_WORDS_TE or stop_te:\n",
    "            w = re.sub(r'[.#-:?!\\_|\"\"'',-...A-Za-z0-9]','',word) #remove everything except words and space#how \n",
    "            new_words = new_words + w\n",
    "    return re.sub(r\"\\s+\", \" \", new_words, flags=re.UNICODE)"
   ]
  },
  {
   "cell_type": "code",
   "execution_count": 15,
   "metadata": {},
   "outputs": [],
   "source": [
    "#bengali\n",
    "def remove_punct_be(text):\n",
    "    new_words = \" \"\n",
    "    for word in text:\n",
    "        if word not in stop_be:\n",
    "            w = re.sub(r'[.#-:?!\\_|\"\"'',-...A-Za-z0-9]','',word) #remove everything except words and space#how \n",
    "            new_words = new_words + w\n",
    "    return re.sub(r\"\\s+\", \" \", new_words, flags=re.UNICODE)"
   ]
  },
  {
   "cell_type": "code",
   "execution_count": 16,
   "metadata": {},
   "outputs": [],
   "source": [
    "#hindi\n",
    "def remove_punct_hi(text):\n",
    "    new_words = \" \"\n",
    "    for word in text:\n",
    "        if word not in STOP_WORDS_HI or STOPS_LIST:\n",
    "            w = re.sub(r'[.#-:?!\\_|\"\"'',-...A-Za-z0-9]','',word) #remove everything except words and space#how \n",
    "            new_words = new_words + w\n",
    "    return re.sub(r\"\\s+\", \" \", new_words, flags=re.UNICODE)"
   ]
  },
  {
   "cell_type": "code",
   "execution_count": 17,
   "metadata": {},
   "outputs": [
    {
     "name": "stdout",
     "output_type": "stream",
     "text": [
      "[' ఎస్టీయూ తెలంగాణ చరిత్రలో ఈ రోజుఅక్టోబర్ \\U000fe516ఐక్యరాజ్య సమితి పతాకం\\U000fe516 \\U000fe516ఐక్యరాజ్యసమితి దినోత్సవం\\U000fe516 \\U000feb7a ', ' ఈరోజు పుట్టిన రోజు జరుపుకుంటున్న మా అభిమాన హీరోకి ఇవే మా హృదయపూర్వక జన్మదిన శుభాకాంక్షలు ప్రభాస్', ' ఈరోజు పుట్టిన రోజు జరుపుకుంటున్న మా అభిమాన హీరో ప్రభాస్ కిఇవే మా హృదయపూర్వక జన్మదిన శుభాకాంక్షలు', ' మనం మానసిక ప్రశాంతతను ఎలా పొందవచ్చు మానసిక ప్రశాంతత ఇది ఎక్కడ', ' అమ్మకు ఎంత గౌరవమిస్తున్నారో భార్యకు కూడా అంతే ఇవ్వండి ఎందుకంటే ఒకరు చందమామ చూపిస్తారు మరొకరు చుక్కలు చూపిస్తారు', ' నీ ప్రమేయం లేకుండా నిన్ను ఎవరూ నాశనం చేయలేరు అది తెలుసుకుంటే నీకు ఒకర్ని నిందించే అవసరం ఎప్పుడూ రాదు; శుభోదయం', ' పరిస్థితులెలా ఉన్నా నీ కర్తవ్యం నీకు గుర్తుంటే జరగాల్సిన పనులు జరుగు తుంటాయి; శుభోదయం', ' నీకు అందని దానికోసం ఆశపడకు నీకు నచ్చని దానికోసం కష్టపడకు నీకై కష్టపడేవారిని మరిచిపోకు నిన్ను ఇష్టపడేవారిని వదులు కోకు శుభోదయం', ' దీపావళి శుభాకాంక్షలు మన పద్దతి ప్రకారమే అయితే దీపాలు ఆర్పకూడదు అలా ఈసారి దీపావళి నాకు ఓరోజు ముందే వచ్సినట్టే', ' దీపావళి శుభాకాంక్షలు మన పద్దతి ప్రకారమే అయితే దీపాలు ఆర్పకూడదు అలా ఈసారి దీపావళి నాకు ఓరోజు ముందే వచ్సినట్టే']\n",
      "Time taken to filter the Telugu Data : 4.842986822128296 s\n"
     ]
    }
   ],
   "source": [
    "#telugu\n",
    "start = time.time()\n",
    "text_te = txt1.splitlines()\n",
    "filtered_sentence_te = []\n",
    "for i in range(0,len(text_te)):\n",
    "    filtered_sentence_te.append(remove_punct_te(text_te[i]))\n",
    "print(filtered_sentence_te[0:10])\n",
    "end = time.time()\n",
    "t0 = end-start\n",
    "print(\"Time taken to filter the Telugu Data :\",t0,\"s\")"
   ]
  },
  {
   "cell_type": "code",
   "execution_count": 18,
   "metadata": {},
   "outputs": [
    {
     "name": "stdout",
     "output_type": "stream",
     "text": [
      "[' আমি জানি ই জীবনটারঙীনতাইবলেমনরঙে জীবনটাকে রাঙিয়ে তুলুন নাযাতে করেপরো জীবন আপনাররঙের সাথী হয় জাহান্নামে লালআগুন কটু হলে ভাবুন', ' আমি নির্বাক বস হেডস অফ টু ইউ কাপালি দ্যা হিউম্যান যাকে আইসিল আমরা বিস্ফোরক হতে দেখেছি বং তারই কটা শোডাউন ', ' কটি ডায়গনিস্টিক বা মলত্যাগ ;´☋｀;ঈশ্বরের ডায়গনিস্টিক বা ;´☋｀;আমি বিষ্ঠা নির্ণয়েররররররররররーーーーーーーーーー！！！！！！！！', ' জিনঁ আমি আপনি ভালবাসেন বং আপনি আমাকে হত্যা প্রেম مجرد نصيحه وكل واحد حر بنفسه — …', ' ঠিকমনভাবে তুইথেকেযাস্বভাবে আমিবুঝেছিকদিনেই আরতুইছাড়াগতিনেই', ' যখন থাকো কাছে উষ্ণ প্রেমের আঁচে হয়ে যাই ঘুড়ী ক সাথে উড়ি যখন যা দূরে মনটা হয় ভবঘুরে আমি আর হৃদয় কসাথে পুড়ি', ' আমি চেষ্টা করবো তিন জায়গায় ভালো করার যেহেতু আমি বোলিং করতে পারি ব্যাটসম্যান আছি ফিল্ডার আছি মূল কথা হচ্ছে শতভাগ দেয়ার চেষ্টা করবো', ' বালিকা তুমি লাইটার হয়ে যা; আমি বিড়িটা কটু ধরাই বিড়ি টানতে মন চাইতাছে', ' র বাংলা অনুবাদ আমি জেনেশুনে আগুনে ঝাপ দিলাম ', ' দিনশেষে ইটাই প্রাপ্তি যে আমি কে তুমি কার আমি নীড় তুমি ফায়ার']\n",
      "Time taken to filter the Bengali Data : 69.92448306083679 s\n"
     ]
    }
   ],
   "source": [
    "start = time.time()\n",
    "text_be = txt2.splitlines()\n",
    "#print(remove_punct(text_cleaned[0:10000]))\n",
    "filtered_sentence_be = []\n",
    "for i in range(0,len(text_be)):\n",
    "    filtered_sentence_be.append(remove_punct_be(text_be[i]))\n",
    "print(filtered_sentence_be[0:10])\n",
    "end = time.time()\n",
    "t1 = end-start\n",
    "print(\"Time taken to filter the Bengali Data :\",t1,\"s\")"
   ]
  },
  {
   "cell_type": "code",
   "execution_count": 19,
   "metadata": {},
   "outputs": [
    {
     "name": "stdout",
     "output_type": "stream",
     "text": [
      "[' कुछ भी हो जाये आज का मैच हारू या जीतू भाई लेकिन पाण्डेय ने साबित कर दिया की हम जनरल वाले गिरते लडखडाते मंजिल तक पहुच ही जाते हैंअपडेट', ' नसा चडाउने रुप तिम्रो मायाले हेर्दा फेरिन्छ की आशा बढाउने साथ तिम्रो आशैआशले घेरिन्छ की', ' अब सुबह की वो एक्स्ट्रा दो घण्टे की नींद अरमान बन कर रह गयी है। शायद मेच्योरिटी जिम्मेदारी सबसे पहले नींद पर असर डालती है', ' न्यूज़ वाले तो ऐसे हनीप्रीत के पीछे लगे हुए हैं जैसे की उनके वापिस आ गयी हो।', ' सोचेंगे हमकि क्यूँ दिल को भातेहो बोलेंगे कि क्यूँ इतना दिल को लुभातेहो कहदो आज तुमभी अपने दिल से नही है प्यार फिर इंतजार क्यूँ करतेहो ', ' आज की में बहुत ही मज़ा आया बउआ भाई सुषमा जी के और हाफिज के बातो का मेल खूब पसंद आया।। लगे रहो और ऐसे ही हँसाते रहो', ' सारे शहर में उनकी कामयाबी के चर्चे हैं और एक हम हैं उनके इतने अज़ीज़ कि हमको उनकी खबर तक नही ', ' राहुल गांधी जब सत्ता में नहीं मंदिरों का दौरा कर रहे हैं जब सत्ता में थे कोर्ट में कहा कि राम कभी था ही नहीं गुजरात वालो समझ जाओ', ' भारत सरकार की पडोसी देश अफगानिस्तान की मदद करना बहुत ही अच्छा कदम इससे हम दोनों देशों के रिश्ते में और भी गहराई आई।। ये है विदेश नीति', ' राहुल गांधी मंदिरों में जा रहे है इसे मै धार्मिक आस्था का विषय मानू या वोट बैंक की राजनीती या प्रसाद खाने का चक्कर बस युही पूछ लिया']\n",
      "Time taken to filter the Hindi Data : 61.96216940879822 s\n"
     ]
    }
   ],
   "source": [
    "start = time.time()\n",
    "text_hi = txt3.splitlines()\n",
    "#print(remove_punct(text_cleaned[0:10000]))\n",
    "filtered_sentence_hi = []\n",
    "for i in range(0,len(text_hi)):\n",
    "    filtered_sentence_hi.append(remove_punct_hi(text_hi[i]))\n",
    "print(filtered_sentence_hi[0:10])\n",
    "end = time.time()\n",
    "t2 = end-start\n",
    "print(\"Time taken to filter the Hindi Data :\",t2,\"s\")"
   ]
  },
  {
   "cell_type": "markdown",
   "metadata": {},
   "source": [
    "### Run time - Filter Sentence ###"
   ]
  },
  {
   "cell_type": "code",
   "execution_count": 20,
   "metadata": {},
   "outputs": [
    {
     "data": {
      "image/png": "[encoded data removed]",
      "text/plain": [
       "<Figure size 432x288 with 1 Axes>"
      ]
     },
     "metadata": {
      "needs_background": "light"
     },
     "output_type": "display_data"
    }
   ],
   "source": [
    "fig = plt.figure()\n",
    "ax = fig.add_axes([0,0,1,1])\n",
    "lang = ['Telugu', 'Bengali', 'Hindi']\n",
    "t_read = [t0,t1,t2]\n",
    "ax.bar(lang[0], t_read[0], color = 'b')\n",
    "ax.bar(lang[1], t_read[1], color = 'g')\n",
    "ax.bar(lang[2], t_read[2], color = 'r')\n",
    "for index, value in enumerate([0,1,2]):\n",
    "    plt.text(value-0.4,t_read[value], str(t_read[value]))\n",
    "plt.xlabel(\"Data\")\n",
    "plt.ylabel(\"Time in Seconds\")    \n",
    "plt.show()"
   ]
  },
  {
   "cell_type": "markdown",
   "metadata": {},
   "source": [
    "### Text to Vector"
   ]
  },
  {
   "cell_type": "code",
   "execution_count": 21,
   "metadata": {},
   "outputs": [],
   "source": [
    "#telugu\n",
    "vectorizer_te = CountVectorizer()\n",
    "X1 = vectorizer_te.fit_transform(filtered_sentence_te)"
   ]
  },
  {
   "cell_type": "code",
   "execution_count": 22,
   "metadata": {},
   "outputs": [],
   "source": [
    "#bengali\n",
    "vectorizer_be = CountVectorizer()\n",
    "X2 = vectorizer_be.fit_transform(filtered_sentence_be)"
   ]
  },
  {
   "cell_type": "code",
   "execution_count": 23,
   "metadata": {},
   "outputs": [],
   "source": [
    "#hindi\n",
    "vectorizer_hi = CountVectorizer()\n",
    "X3 = vectorizer_hi.fit_transform(filtered_sentence_hi)"
   ]
  },
  {
   "cell_type": "markdown",
   "metadata": {},
   "source": [
    "### Label Encoding###"
   ]
  },
  {
   "cell_type": "code",
   "execution_count": 24,
   "metadata": {},
   "outputs": [
    {
     "data": {
      "text/plain": [
       "{'ne', 'neg', 'pos'}"
      ]
     },
     "execution_count": 24,
     "metadata": {},
     "output_type": "execute_result"
    }
   ],
   "source": [
    "#telugu\n",
    "le = LabelEncoder()\n",
    "Y1 = le.fit_transform(sentiment_te[0:len(filtered_sentence_te)])\n",
    "la1 = le.inverse_transform(Y1)\n",
    "set(la1)"
   ]
  },
  {
   "cell_type": "code",
   "execution_count": 25,
   "metadata": {},
   "outputs": [
    {
     "data": {
      "text/plain": [
       "{'ne', 'neg', 'pos'}"
      ]
     },
     "execution_count": 25,
     "metadata": {},
     "output_type": "execute_result"
    }
   ],
   "source": [
    "#bengali\n",
    "Y2 = le.fit_transform(sentiment_be[0:len(filtered_sentence_be)])\n",
    "la2 = le.inverse_transform(Y2)\n",
    "set(la2)"
   ]
  },
  {
   "cell_type": "code",
   "execution_count": 26,
   "metadata": {},
   "outputs": [
    {
     "data": {
      "text/plain": [
       "{'ne', 'neg', 'pos'}"
      ]
     },
     "execution_count": 26,
     "metadata": {},
     "output_type": "execute_result"
    }
   ],
   "source": [
    "#hindi\n",
    "Y3 = le.fit_transform(sentiment_hi[0:len(filtered_sentence_hi)])\n",
    "la3 = le.inverse_transform(Y3)\n",
    "set(la3)"
   ]
  },
  {
   "cell_type": "markdown",
   "metadata": {},
   "source": [
    "### Splitting data - TELUGU"
   ]
  },
  {
   "cell_type": "code",
   "execution_count": 27,
   "metadata": {},
   "outputs": [],
   "source": [
    "#Splitting the data into train data and test data\n",
    "X_train_te, X_test_te, y_train_te, y_test_te = train_test_split(X1,Y1, test_size = 0.2, random_state = 42)"
   ]
  },
  {
   "cell_type": "code",
   "execution_count": 28,
   "metadata": {},
   "outputs": [
    {
     "name": "stdout",
     "output_type": "stream",
     "text": [
      "Shape train data =  (13592, 3732)\n",
      "Shape of train label =  (13592,)\n",
      "Shape of test data =  (3398, 3732)\n",
      "Shape of test label =  (3398,)\n"
     ]
    }
   ],
   "source": [
    "#Printing the size of the train data, train label, test data and test label\n",
    "print(\"Shape train data = \",np.shape(X_train_te))\n",
    "print(\"Shape of train label = \",np.shape(y_train_te))\n",
    "print(\"Shape of test data = \",np.shape(X_test_te))\n",
    "print(\"Shape of test label = \",np.shape(y_test_te))"
   ]
  },
  {
   "cell_type": "markdown",
   "metadata": {},
   "source": [
    "### Splitting data - BENGALI"
   ]
  },
  {
   "cell_type": "code",
   "execution_count": 29,
   "metadata": {},
   "outputs": [],
   "source": [
    "#Splitting the data into train data and test data\n",
    "X_train_be, X_test_be, y_train_be, y_test_be = train_test_split(X2,Y2, test_size = 0.2, random_state = 42)"
   ]
  },
  {
   "cell_type": "code",
   "execution_count": 30,
   "metadata": {},
   "outputs": [
    {
     "name": "stdout",
     "output_type": "stream",
     "text": [
      "Shape train data =  (47622, 10753)\n",
      "Shape of train label =  (47622,)\n",
      "Shape of test data =  (11906, 10753)\n",
      "Shape of test label =  (11906,)\n"
     ]
    }
   ],
   "source": [
    "print(\"Shape train data = \",np.shape(X_train_be))\n",
    "print(\"Shape of train label = \",np.shape(y_train_be))\n",
    "print(\"Shape of test data = \",np.shape(X_test_be))\n",
    "print(\"Shape of test label = \",np.shape(y_test_be))"
   ]
  },
  {
   "cell_type": "markdown",
   "metadata": {},
   "source": [
    "### Splitting data - HINDI"
   ]
  },
  {
   "cell_type": "code",
   "execution_count": 31,
   "metadata": {},
   "outputs": [],
   "source": [
    "#Splitting the data into train data and test data\n",
    "X_train_hi, X_test_hi, y_train_hi, y_test_hi = train_test_split(X3,Y3, test_size = 0.2, random_state = 42)"
   ]
  },
  {
   "cell_type": "code",
   "execution_count": 32,
   "metadata": {},
   "outputs": [
    {
     "name": "stdout",
     "output_type": "stream",
     "text": [
      "Shape train data =  (161932, 22833)\n",
      "Shape of train label =  (161932,)\n",
      "Shape of test data =  (40483, 22833)\n",
      "Shape of test label =  (40483,)\n"
     ]
    }
   ],
   "source": [
    "print(\"Shape train data = \",np.shape(X_train_hi))\n",
    "print(\"Shape of train label = \",np.shape(y_train_hi))\n",
    "print(\"Shape of test data = \",np.shape(X_test_hi))\n",
    "print(\"Shape of test label = \",np.shape(y_test_hi))"
   ]
  },
  {
   "cell_type": "markdown",
   "metadata": {},
   "source": [
    "### Classification Algorithm"
   ]
  },
  {
   "cell_type": "markdown",
   "metadata": {},
   "source": [
    "#### KNN - Telugu"
   ]
  },
  {
   "cell_type": "code",
   "execution_count": 33,
   "metadata": {},
   "outputs": [
    {
     "name": "stdout",
     "output_type": "stream",
     "text": [
      "Time taken to train the model : 0.007975339889526367 s\n"
     ]
    }
   ],
   "source": [
    "start = time.time()\n",
    "clf_knn_te = KNeighborsClassifier()\n",
    "clf_knn_te.fit(X_train_te,y_train_te)\n",
    "end = time.time()\n",
    "kt_0 = end-start\n",
    "print(\"Time taken to train the model :\",kt_0,\"s\")"
   ]
  },
  {
   "cell_type": "code",
   "execution_count": 34,
   "metadata": {},
   "outputs": [
    {
     "name": "stdout",
     "output_type": "stream",
     "text": [
      "Time taken to test the model : 4.465533256530762 s\n"
     ]
    }
   ],
   "source": [
    "start = time.time()\n",
    "y_pred_knn_te = clf_knn_te.predict(X_test_te)\n",
    "end = time.time()\n",
    "kt_1 = end-start\n",
    "print(\"Time taken to test the model :\",kt_1,\"s\")"
   ]
  },
  {
   "cell_type": "markdown",
   "metadata": {},
   "source": [
    "#### KNN Report - Telugu"
   ]
  },
  {
   "cell_type": "code",
   "execution_count": 35,
   "metadata": {},
   "outputs": [
    {
     "name": "stdout",
     "output_type": "stream",
     "text": [
      "Accuracy =  78.99\n"
     ]
    }
   ],
   "source": [
    "#Computation of the accuracy score\n",
    "acc_knn_te = accuracy_score(y_test_te, y_pred_knn_te)\n",
    "print('Accuracy = ','%.2f'%(acc_knn_te*100))"
   ]
  },
  {
   "cell_type": "code",
   "execution_count": 36,
   "metadata": {},
   "outputs": [
    {
     "name": "stdout",
     "output_type": "stream",
     "text": [
      "              precision    recall  f1-score   support\n",
      "\n",
      "           0       0.29      0.10      0.15       481\n",
      "           1       0.25      0.09      0.13       163\n",
      "           2       0.83      0.95      0.88      2754\n",
      "\n",
      "    accuracy                           0.79      3398\n",
      "   macro avg       0.46      0.38      0.39      3398\n",
      "weighted avg       0.72      0.79      0.74      3398\n",
      "\n"
     ]
    }
   ],
   "source": [
    "from sklearn.metrics import classification_report\n",
    "rep_knn_te = classification_report(y_test_te, y_pred_knn_te, output_dict=True)\n",
    "rep1_knn_te = classification_report(y_test_te, y_pred_knn_te)\n",
    "\n",
    "macro_precision_knn_te =  rep_knn_te['macro avg']['precision'] \n",
    "macro_recall_knn_te = rep_knn_te['macro avg']['recall']    \n",
    "macro_f1_knn_te = rep_knn_te['macro avg']['f1-score']\n",
    "accuracy_knn_te = rep_knn_te['accuracy']\n",
    "\n",
    "print(rep1_knn_te)"
   ]
  },
  {
   "cell_type": "code",
   "execution_count": 37,
   "metadata": {},
   "outputs": [
    {
     "data": {
      "text/plain": [
       "<matplotlib.axes._subplots.AxesSubplot at 0x286f80344c8>"
      ]
     },
     "execution_count": 37,
     "metadata": {},
     "output_type": "execute_result"
    },
    {
     "data": {
      "image/png": "[encoded data removed]",
      "text/plain": [
       "<Figure size 432x288 with 2 Axes>"
      ]
     },
     "metadata": {
      "needs_background": "light"
     },
     "output_type": "display_data"
    }
   ],
   "source": [
    "import scikitplot as skplt\n",
    "import matplotlib.pyplot as plt\n",
    "skplt.metrics.plot_confusion_matrix(y_test_te, y_pred_knn_te)"
   ]
  },
  {
   "cell_type": "code",
   "execution_count": 38,
   "metadata": {
    "scrolled": true
   },
   "outputs": [
    {
     "data": {
      "image/png": "[encoded data removed]",
      "text/plain": [
       "<Figure size 432x288 with 2 Axes>"
      ]
     },
     "metadata": {
      "needs_background": "light"
     },
     "output_type": "display_data"
    }
   ],
   "source": [
    "plt.subplot(1,2,1)\n",
    "x = np.arange(3)\n",
    "plt.bar([0,1,2], height=[len(y_pred_knn_te[y_pred_knn_te==0]),len(y_pred_knn_te[y_pred_knn_te==1]),len(y_pred_knn_te[y_pred_knn_te==2])],)\n",
    "plt.xticks([0,1,2], ['Neutral','Negative','Positive'])\n",
    "plt.title(\" PREDICTED LABELS\")\n",
    "plt.ylabel(\"NO OF TEST DATA\")\n",
    "for index, value in enumerate([0,1,2]):\n",
    "    plt.text(value-0.2,len(y_pred_knn_te[y_pred_knn_te==value])+10 , str(len(y_pred_knn_te[y_pred_knn_te==value])))\n",
    "    \n",
    "plt.subplot(1,2,2)\n",
    "plt.bar(x, height=[len(y_test_te[y_test_te==0]),len(y_test_te[y_test_te==1]),len(y_test_te[y_test_te==2])],)\n",
    "plt.xticks(x, ['Neutral','Negative','Positive'])\n",
    "plt.title(\" ACTUAL LABELS\")\n",
    "for index, value in enumerate([0,1,2]):\n",
    "    plt.text(value-0.2,len(y_test_te[y_test_te==value])+10 , str(len(y_test_te[y_test_te==value])))"
   ]
  },
  {
   "cell_type": "markdown",
   "metadata": {},
   "source": [
    "#### KNN - Bengali"
   ]
  },
  {
   "cell_type": "code",
   "execution_count": 39,
   "metadata": {},
   "outputs": [
    {
     "name": "stdout",
     "output_type": "stream",
     "text": [
      "Time taken to train the model : 0.0159456729888916 s\n"
     ]
    }
   ],
   "source": [
    "start = time.time()\n",
    "clf_knn_be = KNeighborsClassifier(n_neighbors = 15)\n",
    "clf_knn_be.fit(X_train_be,y_train_be)\n",
    "end = time.time()\n",
    "kb_0 = end-start\n",
    "print(\"Time taken to train the model :\",kb_0,\"s\")"
   ]
  },
  {
   "cell_type": "code",
   "execution_count": 40,
   "metadata": {},
   "outputs": [
    {
     "name": "stdout",
     "output_type": "stream",
     "text": [
      "Time taken to test the model : 34.44857978820801 s\n"
     ]
    }
   ],
   "source": [
    "start = time.time()\n",
    "y_pred_knn_be = clf_knn_be.predict(X_test_be)\n",
    "end = time.time()\n",
    "kb_1 = end-start\n",
    "print(\"Time taken to test the model :\",kb_1,\"s\")"
   ]
  },
  {
   "cell_type": "markdown",
   "metadata": {},
   "source": [
    "#### KNN Report - Bengali"
   ]
  },
  {
   "cell_type": "code",
   "execution_count": 41,
   "metadata": {},
   "outputs": [
    {
     "name": "stdout",
     "output_type": "stream",
     "text": [
      "Accuracy =  60.73\n"
     ]
    }
   ],
   "source": [
    "#Computation of the accuracy score\n",
    "acc_knn_be = accuracy_score(y_test_be, y_pred_knn_be)\n",
    "print('Accuracy = ','%.2f'%(acc_knn_be*100))"
   ]
  },
  {
   "cell_type": "code",
   "execution_count": 42,
   "metadata": {},
   "outputs": [
    {
     "name": "stdout",
     "output_type": "stream",
     "text": [
      "              precision    recall  f1-score   support\n",
      "\n",
      "           0       0.32      0.13      0.19      3219\n",
      "           1       0.38      0.01      0.01      1097\n",
      "           2       0.64      0.90      0.75      7590\n",
      "\n",
      "    accuracy                           0.61     11906\n",
      "   macro avg       0.45      0.34      0.32     11906\n",
      "weighted avg       0.53      0.61      0.53     11906\n",
      "\n"
     ]
    }
   ],
   "source": [
    "from sklearn.metrics import classification_report\n",
    "rep_knn_be = classification_report(y_test_be, y_pred_knn_be, output_dict=True)\n",
    "rep1_knn_be = classification_report(y_test_be, y_pred_knn_be)\n",
    "\n",
    "macro_precision_knn_be =  rep_knn_be['macro avg']['precision'] \n",
    "macro_recall_knn_be = rep_knn_be['macro avg']['recall']    \n",
    "macro_f1_knn_be = rep_knn_be['macro avg']['f1-score']\n",
    "accuracy_knn_be = rep_knn_be['accuracy']\n",
    "\n",
    "print(rep1_knn_be)"
   ]
  },
  {
   "cell_type": "code",
   "execution_count": 43,
   "metadata": {},
   "outputs": [
    {
     "data": {
      "text/plain": [
       "<matplotlib.axes._subplots.AxesSubplot at 0x286f9970788>"
      ]
     },
     "execution_count": 43,
     "metadata": {},
     "output_type": "execute_result"
    },
    {
     "data": {
      "image/png": "[encoded data removed]",
      "text/plain": [
       "<Figure size 432x288 with 2 Axes>"
      ]
     },
     "metadata": {
      "needs_background": "light"
     },
     "output_type": "display_data"
    }
   ],
   "source": [
    "import scikitplot as skplt\n",
    "import matplotlib.pyplot as plt\n",
    "skplt.metrics.plot_confusion_matrix(y_test_be, y_pred_knn_be)"
   ]
  },
  {
   "cell_type": "code",
   "execution_count": 44,
   "metadata": {},
   "outputs": [
    {
     "data": {
      "image/png": "[encoded data removed]",
      "text/plain": [
       "<Figure size 432x288 with 2 Axes>"
      ]
     },
     "metadata": {
      "needs_background": "light"
     },
     "output_type": "display_data"
    }
   ],
   "source": [
    "plt.subplot(1,2,1)\n",
    "x = np.arange(3)\n",
    "plt.bar([0,1,2], height=[len(y_pred_knn_be[y_pred_knn_be==0]),len(y_pred_knn_be[y_pred_knn_be==1]),len(y_pred_knn_be[y_pred_knn_be==2])],)\n",
    "plt.xticks([0,1,2], ['Neutral','Negative','Positive'])\n",
    "plt.title(\" PREDICTED LABELS\")\n",
    "plt.ylabel(\"NO OF TEST DATA\")\n",
    "for index, value in enumerate([0,1,2]):\n",
    "    plt.text(value-0.2,len(y_pred_knn_be[y_pred_knn_be==value])+10 , str(len(y_pred_knn_be[y_pred_knn_be==value])))\n",
    "    \n",
    "plt.subplot(1,2,2)\n",
    "plt.bar(x, height=[len(y_test_be[y_test_be==0]),len(y_test_be[y_test_be==1]),len(y_test_be[y_test_be==2])],)\n",
    "plt.xticks(x, ['Neutral','Negative','Positive'])\n",
    "plt.title(\" ACTUAL LABELS\")\n",
    "for index, value in enumerate([0,1,2]):\n",
    "    plt.text(value-0.2,len(y_test_be[y_test_be==value])+10 , str(len(y_test_be[y_test_be==value])))"
   ]
  },
  {
   "cell_type": "markdown",
   "metadata": {},
   "source": [
    "#### KNN - Hindi"
   ]
  },
  {
   "cell_type": "code",
   "execution_count": 45,
   "metadata": {},
   "outputs": [
    {
     "name": "stdout",
     "output_type": "stream",
     "text": [
      "Time taken to train the model : 0.07184815406799316 s\n"
     ]
    }
   ],
   "source": [
    "start = time.time()\n",
    "clf_knn_hi = KNeighborsClassifier(n_neighbors = 15)\n",
    "clf_knn_hi.fit(X_train_hi,y_train_hi)\n",
    "end = time.time()\n",
    "kh_0 = end-start\n",
    "print(\"Time taken to train the model :\",kh_0,\"s\")"
   ]
  },
  {
   "cell_type": "code",
   "execution_count": 46,
   "metadata": {},
   "outputs": [
    {
     "name": "stdout",
     "output_type": "stream",
     "text": [
      "Time taken to test the model : 265.9274115562439 s\n"
     ]
    }
   ],
   "source": [
    "start = time.time()\n",
    "y_pred_knn_hi = clf_knn_hi.predict(X_test_hi)\n",
    "end = time.time()\n",
    "kh_1 = end-start\n",
    "print(\"Time taken to test the model :\",kh_1,\"s\")"
   ]
  },
  {
   "cell_type": "markdown",
   "metadata": {},
   "source": [
    "#### KNN Report - Hindi"
   ]
  },
  {
   "cell_type": "code",
   "execution_count": 47,
   "metadata": {},
   "outputs": [
    {
     "name": "stdout",
     "output_type": "stream",
     "text": [
      "Accuracy =  65.02\n"
     ]
    }
   ],
   "source": [
    "#Computation of the accuracy score\n",
    "acc_knn_hi = accuracy_score(y_test_hi, y_pred_knn_hi)\n",
    "print('Accuracy = ','%.2f'%(acc_knn_hi*100))"
   ]
  },
  {
   "cell_type": "code",
   "execution_count": 48,
   "metadata": {},
   "outputs": [
    {
     "name": "stdout",
     "output_type": "stream",
     "text": [
      "              precision    recall  f1-score   support\n",
      "\n",
      "           0       0.37      0.13      0.20      9135\n",
      "           1       0.46      0.02      0.03      4473\n",
      "           2       0.68      0.93      0.78     26875\n",
      "\n",
      "    accuracy                           0.65     40483\n",
      "   macro avg       0.50      0.36      0.34     40483\n",
      "weighted avg       0.58      0.65      0.57     40483\n",
      "\n"
     ]
    }
   ],
   "source": [
    "from sklearn.metrics import classification_report\n",
    "rep_knn_hi = classification_report(y_test_hi, y_pred_knn_hi, output_dict=True)\n",
    "rep1_knn_hi = classification_report(y_test_hi, y_pred_knn_hi)\n",
    "\n",
    "macro_precision_knn_hi =  rep_knn_hi['macro avg']['precision'] \n",
    "macro_recall_knn_hi = rep_knn_hi['macro avg']['recall']    \n",
    "macro_f1_knn_hi = rep_knn_hi['macro avg']['f1-score']\n",
    "accuracy_knn_hi = rep_knn_hi['accuracy']\n",
    "\n",
    "print(rep1_knn_hi)"
   ]
  },
  {
   "cell_type": "code",
   "execution_count": 49,
   "metadata": {},
   "outputs": [
    {
     "data": {
      "text/plain": [
       "<matplotlib.axes._subplots.AxesSubplot at 0x286f95e4148>"
      ]
     },
     "execution_count": 49,
     "metadata": {},
     "output_type": "execute_result"
    },
    {
     "data": {
      "image/png": "[encoded data removed]",
      "text/plain": [
       "<Figure size 432x288 with 2 Axes>"
      ]
     },
     "metadata": {
      "needs_background": "light"
     },
     "output_type": "display_data"
    }
   ],
   "source": [
    "import scikitplot as skplt\n",
    "import matplotlib.pyplot as plt\n",
    "skplt.metrics.plot_confusion_matrix(y_test_hi, y_pred_knn_hi)"
   ]
  },
  {
   "cell_type": "code",
   "execution_count": 50,
   "metadata": {},
   "outputs": [
    {
     "data": {
      "image/png": "[encoded data removed]",
      "text/plain": [
       "<Figure size 432x288 with 2 Axes>"
      ]
     },
     "metadata": {
      "needs_background": "light"
     },
     "output_type": "display_data"
    }
   ],
   "source": [
    "plt.subplot(1,2,1)\n",
    "x = np.arange(3)\n",
    "plt.bar([0,1,2], height=[len(y_pred_knn_hi[y_pred_knn_hi==0]),len(y_pred_knn_hi[y_pred_knn_hi==1]),len(y_pred_knn_hi[y_pred_knn_hi==2])],)\n",
    "plt.xticks([0,1,2], ['Neutral','Negative','Positive'])\n",
    "plt.title(\" PREDICTED LABELS\")\n",
    "plt.ylabel(\"NO OF TEST DATA\")\n",
    "for index, value in enumerate([0,1,2]):\n",
    "    plt.text(value-0.2,len(y_pred_knn_hi[y_pred_knn_hi==value])+10 , str(len(y_pred_knn_hi[y_pred_knn_hi==value])))\n",
    "    \n",
    "plt.subplot(1,2,2)\n",
    "plt.bar(x, height=[len(y_test_hi[y_test_hi==0]),len(y_test_hi[y_test_hi==1]),len(y_test_hi[y_test_hi==2])],)\n",
    "plt.xticks(x, ['Neutral','Negative','Positive'])\n",
    "plt.title(\" ACTUAL LABELS\")\n",
    "for index, value in enumerate([0,1,2]):\n",
    "    plt.text(value-0.2,len(y_test_hi[y_test_hi==value])+10 , str(len(y_test_hi[y_test_hi==value])))"
   ]
  },
  {
   "cell_type": "markdown",
   "metadata": {},
   "source": [
    "#### Decision Tree Classifier - Telugu"
   ]
  },
  {
   "cell_type": "code",
   "execution_count": 51,
   "metadata": {},
   "outputs": [
    {
     "name": "stdout",
     "output_type": "stream",
     "text": [
      "Time taken to train the model : 1.544065237045288 s\n"
     ]
    }
   ],
   "source": [
    "start = time.time()\n",
    "clf_dt_te = DecisionTreeClassifier()\n",
    "clf_dt_te = clf_dt_te.fit(X_train_te, y_train_te)\n",
    "end = time.time()\n",
    "dt_0 = end-start\n",
    "print(\"Time taken to train the model :\",dt_0,\"s\")"
   ]
  },
  {
   "cell_type": "code",
   "execution_count": 52,
   "metadata": {},
   "outputs": [
    {
     "name": "stdout",
     "output_type": "stream",
     "text": [
      "Time taken to test the model : 0.01242971420288086 s\n"
     ]
    }
   ],
   "source": [
    "start = time.time()\n",
    "y_pred_dt_te = clf_dt_te.predict(X_test_te)\n",
    "end = time.time()\n",
    "dt_1 = end-start\n",
    "print(\"Time taken to test the model :\",dt_1,\"s\")"
   ]
  },
  {
   "cell_type": "markdown",
   "metadata": {},
   "source": [
    "#### Decision Tree Classifier Report - Telugu"
   ]
  },
  {
   "cell_type": "code",
   "execution_count": 53,
   "metadata": {},
   "outputs": [
    {
     "name": "stdout",
     "output_type": "stream",
     "text": [
      "Accuracy =  82.22\n"
     ]
    }
   ],
   "source": [
    "#Computation of the accuracy score\n",
    "acc_dt_te = accuracy_score(y_test_te, y_pred_dt_te)\n",
    "print('Accuracy = ','%.2f'%(acc_dt_te*100))"
   ]
  },
  {
   "cell_type": "code",
   "execution_count": 54,
   "metadata": {},
   "outputs": [
    {
     "name": "stdout",
     "output_type": "stream",
     "text": [
      "              precision    recall  f1-score   support\n",
      "\n",
      "           0       0.52      0.50      0.51       481\n",
      "           1       0.49      0.50      0.50       163\n",
      "           2       0.89      0.90      0.89      2754\n",
      "\n",
      "    accuracy                           0.82      3398\n",
      "   macro avg       0.63      0.63      0.63      3398\n",
      "weighted avg       0.82      0.82      0.82      3398\n",
      "\n"
     ]
    }
   ],
   "source": [
    "from sklearn.metrics import classification_report\n",
    "rep_dt_te = classification_report(y_test_te, y_pred_dt_te, output_dict=True)\n",
    "rep1_dt_te = classification_report(y_test_te, y_pred_dt_te)\n",
    "\n",
    "macro_precision_dt_te =  rep_dt_te['macro avg']['precision'] \n",
    "macro_recall_dt_te = rep_dt_te['macro avg']['recall']    \n",
    "macro_f1_dt_te = rep_dt_te['macro avg']['f1-score']\n",
    "accuracy_dt_te = rep_dt_te['accuracy']\n",
    "\n",
    "print(rep1_dt_te)"
   ]
  },
  {
   "cell_type": "code",
   "execution_count": 55,
   "metadata": {},
   "outputs": [
    {
     "data": {
      "text/plain": [
       "<matplotlib.axes._subplots.AxesSubplot at 0x286f95b9908>"
      ]
     },
     "execution_count": 55,
     "metadata": {},
     "output_type": "execute_result"
    },
    {
     "data": {
      "image/png": "[encoded data removed]",
      "text/plain": [
       "<Figure size 432x288 with 2 Axes>"
      ]
     },
     "metadata": {
      "needs_background": "light"
     },
     "output_type": "display_data"
    }
   ],
   "source": [
    "import scikitplot as skplt\n",
    "import matplotlib.pyplot as plt\n",
    "skplt.metrics.plot_confusion_matrix(y_test_te, y_pred_dt_te)"
   ]
  },
  {
   "cell_type": "code",
   "execution_count": 56,
   "metadata": {},
   "outputs": [
    {
     "data": {
      "image/png": "[encoded data removed]",
      "text/plain": [
       "<Figure size 432x288 with 2 Axes>"
      ]
     },
     "metadata": {
      "needs_background": "light"
     },
     "output_type": "display_data"
    }
   ],
   "source": [
    "plt.subplot(1,2,1)\n",
    "x=np.arange(3)\n",
    "plt.bar([0,1,2], height=[len(y_pred_dt_te[y_pred_dt_te==0]),len(y_pred_dt_te[y_pred_dt_te==1]),len(y_pred_dt_te[y_pred_dt_te==2])],)\n",
    "plt.xticks([0,1,2], ['Neutral','Negative','Positive'])\n",
    "plt.title(\" PREDICTED LABELS\")\n",
    "plt.ylabel(\"NO OF TEST DATA\")\n",
    "for index, value in enumerate([0,1,2]):\n",
    "    plt.text(value-0.2,len(y_pred_dt_te[y_pred_dt_te==value])+10 , str(len(y_pred_dt_te[y_pred_dt_te==value])))\n",
    "    \n",
    "plt.subplot(1,2,2)\n",
    "plt.bar(x, height=[len(y_test_te[y_test_te==0]),len(y_test_te[y_test_te==1]),len(y_test_te[y_test_te==2])],)\n",
    "plt.xticks(x, ['Neutral','Negative','Positive'])\n",
    "plt.title(\" ACTUAL LABELS\")\n",
    "for index, value in enumerate([0,1,2]):\n",
    "    plt.text(value-0.2,len(y_test_te[y_test_te==value])+10 , str(len(y_test_te[y_test_te==value])))"
   ]
  },
  {
   "cell_type": "markdown",
   "metadata": {},
   "source": [
    "#### Decision Tree Classifier - Bengali"
   ]
  },
  {
   "cell_type": "code",
   "execution_count": 57,
   "metadata": {},
   "outputs": [
    {
     "name": "stdout",
     "output_type": "stream",
     "text": [
      "Time taken to train the model : 18.38910984992981 s\n"
     ]
    }
   ],
   "source": [
    "start = time.time()\n",
    "clf_dt_be = DecisionTreeClassifier()\n",
    "clf_dt_be = clf_dt_be.fit(X_train_be, y_train_be)\n",
    "end = time.time()\n",
    "db_0 = end-start\n",
    "print(\"Time taken to train the model :\",db_0,\"s\")"
   ]
  },
  {
   "cell_type": "code",
   "execution_count": 58,
   "metadata": {},
   "outputs": [
    {
     "name": "stdout",
     "output_type": "stream",
     "text": [
      "Time taken to test the model : 0.022971391677856445 s\n"
     ]
    }
   ],
   "source": [
    "start = time.time()\n",
    "y_pred_dt_be = clf_dt_be.predict(X_test_be)\n",
    "end = time.time()\n",
    "db_1 = end-start\n",
    "print(\"Time taken to test the model :\",db_1,\"s\")"
   ]
  },
  {
   "cell_type": "markdown",
   "metadata": {},
   "source": [
    "#### Decision Tree Classifier Report - Bengali"
   ]
  },
  {
   "cell_type": "code",
   "execution_count": 59,
   "metadata": {},
   "outputs": [
    {
     "name": "stdout",
     "output_type": "stream",
     "text": [
      "Accuracy =  54.25\n"
     ]
    }
   ],
   "source": [
    "#Computation of the accuracy score\n",
    "acc_dt_be = accuracy_score(y_test_be, y_pred_dt_be)\n",
    "print('Accuracy = ','%.2f'%(acc_dt_be*100))"
   ]
  },
  {
   "cell_type": "code",
   "execution_count": 60,
   "metadata": {},
   "outputs": [
    {
     "name": "stdout",
     "output_type": "stream",
     "text": [
      "              precision    recall  f1-score   support\n",
      "\n",
      "           0       0.35      0.34      0.35      3219\n",
      "           1       0.12      0.09      0.11      1097\n",
      "           2       0.66      0.69      0.68      7590\n",
      "\n",
      "    accuracy                           0.54     11906\n",
      "   macro avg       0.38      0.38      0.38     11906\n",
      "weighted avg       0.53      0.54      0.54     11906\n",
      "\n"
     ]
    }
   ],
   "source": [
    "from sklearn.metrics import classification_report\n",
    "rep_dt_be = classification_report(y_test_be, y_pred_dt_be, output_dict=True)\n",
    "rep1_dt_be = classification_report(y_test_be, y_pred_dt_be)\n",
    "\n",
    "macro_precision_dt_be =  rep_dt_be['macro avg']['precision'] \n",
    "macro_recall_dt_be = rep_dt_be['macro avg']['recall']    \n",
    "macro_f1_dt_be = rep_dt_be['macro avg']['f1-score']\n",
    "accuracy_dt_be = rep_dt_be['accuracy']\n",
    "\n",
    "print(rep1_dt_be)"
   ]
  },
  {
   "cell_type": "code",
   "execution_count": 61,
   "metadata": {},
   "outputs": [
    {
     "data": {
      "text/plain": [
       "<matplotlib.axes._subplots.AxesSubplot at 0x286fa121ec8>"
      ]
     },
     "execution_count": 61,
     "metadata": {},
     "output_type": "execute_result"
    },
    {
     "data": {
      "image/png": "[encoded data removed]",
      "text/plain": [
       "<Figure size 432x288 with 2 Axes>"
      ]
     },
     "metadata": {
      "needs_background": "light"
     },
     "output_type": "display_data"
    }
   ],
   "source": [
    "import scikitplot as skplt\n",
    "import matplotlib.pyplot as plt\n",
    "skplt.metrics.plot_confusion_matrix(y_test_be, y_pred_dt_be)"
   ]
  },
  {
   "cell_type": "code",
   "execution_count": 62,
   "metadata": {},
   "outputs": [
    {
     "data": {
      "image/png": "[encoded data removed]",
      "text/plain": [
       "<Figure size 432x288 with 2 Axes>"
      ]
     },
     "metadata": {
      "needs_background": "light"
     },
     "output_type": "display_data"
    }
   ],
   "source": [
    "plt.subplot(1,2,1)\n",
    "x=np.arange(3)\n",
    "plt.bar([0,1,2], height=[len(y_pred_dt_be[y_pred_dt_be==0]),len(y_pred_dt_be[y_pred_dt_be==1]),len(y_pred_dt_be[y_pred_dt_be==2])],)\n",
    "plt.xticks([0,1,2], ['Neutral','Negative','Positive'])\n",
    "plt.title(\" PREDICTED LABELS\")\n",
    "plt.ylabel(\"NO OF TEST DATA\")\n",
    "for index, value in enumerate([0,1,2]):\n",
    "    plt.text(value-0.2,len(y_pred_dt_be[y_pred_dt_be==value])+10 , str(len(y_pred_dt_be[y_pred_dt_be==value])))\n",
    "    \n",
    "plt.subplot(1,2,2)\n",
    "plt.bar(x, height=[len(y_test_be[y_test_be==0]),len(y_test_be[y_test_be==1]),len(y_test_be[y_test_be==2])],)\n",
    "plt.xticks(x, ['Neutral','Negative','Positive'])\n",
    "plt.title(\" ACTUAL LABELS\")\n",
    "for index, value in enumerate([0,1,2]):\n",
    "    plt.text(value-0.2,len(y_test_be[y_test_be==value])+10 , str(len(y_test_be[y_test_be==value])))"
   ]
  },
  {
   "cell_type": "markdown",
   "metadata": {},
   "source": [
    "#### Decision Tree Classifier - Hindi"
   ]
  },
  {
   "cell_type": "code",
   "execution_count": 63,
   "metadata": {},
   "outputs": [
    {
     "name": "stdout",
     "output_type": "stream",
     "text": [
      "Time taken to train the model : 427.3051369190216 s\n"
     ]
    }
   ],
   "source": [
    "start = time.time()\n",
    "clf_dt_hi = DecisionTreeClassifier()\n",
    "clf_dt_hi = clf_dt_hi.fit(X_train_hi, y_train_hi)\n",
    "end = time.time()\n",
    "dh_0 = end-start\n",
    "print(\"Time taken to train the model :\",dh_0,\"s\")"
   ]
  },
  {
   "cell_type": "code",
   "execution_count": 64,
   "metadata": {},
   "outputs": [
    {
     "name": "stdout",
     "output_type": "stream",
     "text": [
      "Time taken to test the model : 0.21741747856140137 s\n"
     ]
    }
   ],
   "source": [
    "start = time.time()\n",
    "y_pred_dt_hi = clf_dt_hi.predict(X_test_hi)\n",
    "end = time.time()\n",
    "dh_1 = end-start\n",
    "print(\"Time taken to test the model :\",dh_1,\"s\")"
   ]
  },
  {
   "cell_type": "markdown",
   "metadata": {},
   "source": [
    "#### Decision Tree Classifier Report - Hindi"
   ]
  },
  {
   "cell_type": "code",
   "execution_count": 65,
   "metadata": {},
   "outputs": [
    {
     "name": "stdout",
     "output_type": "stream",
     "text": [
      "Accuracy =  62.42\n"
     ]
    }
   ],
   "source": [
    "#Computation of the accuracy score\n",
    "acc_dt_hi = accuracy_score(y_test_hi, y_pred_dt_hi)\n",
    "print('Accuracy = ','%.2f'%(acc_dt_hi*100))"
   ]
  },
  {
   "cell_type": "code",
   "execution_count": 66,
   "metadata": {},
   "outputs": [
    {
     "name": "stdout",
     "output_type": "stream",
     "text": [
      "              precision    recall  f1-score   support\n",
      "\n",
      "           0       0.42      0.38      0.40      9135\n",
      "           1       0.28      0.23      0.25      4473\n",
      "           2       0.73      0.77      0.75     26875\n",
      "\n",
      "    accuracy                           0.62     40483\n",
      "   macro avg       0.48      0.46      0.47     40483\n",
      "weighted avg       0.61      0.62      0.62     40483\n",
      "\n"
     ]
    }
   ],
   "source": [
    "from sklearn.metrics import classification_report\n",
    "rep_dt_hi = classification_report(y_test_hi, y_pred_dt_hi, output_dict=True)\n",
    "rep1_dt_hi = classification_report(y_test_hi, y_pred_dt_hi)\n",
    "\n",
    "macro_precision_dt_hi =  rep_dt_hi['macro avg']['precision'] \n",
    "macro_recall_dt_hi = rep_dt_hi['macro avg']['recall']    \n",
    "macro_f1_dt_hi = rep_dt_hi['macro avg']['f1-score']\n",
    "accuracy_dt_hi = rep_dt_hi['accuracy']\n",
    "\n",
    "print(rep1_dt_hi)"
   ]
  },
  {
   "cell_type": "code",
   "execution_count": 67,
   "metadata": {},
   "outputs": [
    {
     "data": {
      "text/plain": [
       "<matplotlib.axes._subplots.AxesSubplot at 0x286f9927348>"
      ]
     },
     "execution_count": 67,
     "metadata": {},
     "output_type": "execute_result"
    },
    {
     "data": {
      "image/png": "[encoded data removed]",
      "text/plain": [
       "<Figure size 432x288 with 2 Axes>"
      ]
     },
     "metadata": {
      "needs_background": "light"
     },
     "output_type": "display_data"
    }
   ],
   "source": [
    "import scikitplot as skplt\n",
    "import matplotlib.pyplot as plt\n",
    "skplt.metrics.plot_confusion_matrix(y_test_hi, y_pred_dt_hi)"
   ]
  },
  {
   "cell_type": "code",
   "execution_count": 68,
   "metadata": {},
   "outputs": [
    {
     "data": {
      "image/png": "[encoded data removed]",
      "text/plain": [
       "<Figure size 432x288 with 2 Axes>"
      ]
     },
     "metadata": {
      "needs_background": "light"
     },
     "output_type": "display_data"
    }
   ],
   "source": [
    "plt.subplot(1,2,1)\n",
    "x=np.arange(3)\n",
    "plt.bar([0,1,2], height=[len(y_pred_dt_hi[y_pred_dt_hi==0]),len(y_pred_dt_hi[y_pred_dt_hi==1]),len(y_pred_dt_hi[y_pred_dt_hi==2])],)\n",
    "plt.xticks([0,1,2], ['Neutral','Negative','Positive'])\n",
    "plt.title(\" PREDICTED LABELS\")\n",
    "plt.ylabel(\"NO OF TEST DATA\")\n",
    "for index, value in enumerate([0,1,2]):\n",
    "    plt.text(value-0.2,len(y_pred_dt_hi[y_pred_dt_hi==value])+10 , str(len(y_pred_dt_hi[y_pred_dt_hi==value])))\n",
    "    \n",
    "plt.subplot(1,2,2)\n",
    "plt.bar(x, height=[len(y_test_hi[y_test_hi==0]),len(y_test_hi[y_test_hi==1]),len(y_test_hi[y_test_hi==2])],)\n",
    "plt.xticks(x, ['Neutral','Negative','Positive'])\n",
    "plt.title(\" ACTUAL LABELS\")\n",
    "for index, value in enumerate([0,1,2]):\n",
    "    plt.text(value-0.2,len(y_test_hi[y_test_hi==value])+10 , str(len(y_test_hi[y_test_hi==value])))"
   ]
  },
  {
   "cell_type": "markdown",
   "metadata": {},
   "source": [
    "#### Random forest Classifier - Telugu"
   ]
  },
  {
   "cell_type": "code",
   "execution_count": 69,
   "metadata": {},
   "outputs": [
    {
     "name": "stdout",
     "output_type": "stream",
     "text": [
      "Time taken to train the model : 28.234376430511475 s\n"
     ]
    }
   ],
   "source": [
    "start = time.time()\n",
    "clf_rf_te = RandomForestClassifier(max_depth=200, random_state=0)\n",
    "clf_rf_te.fit(X_train_te, y_train_te)\n",
    "end = time.time()\n",
    "rt_0 = end-start\n",
    "print(\"Time taken to train the model :\",rt_0,\"s\")"
   ]
  },
  {
   "cell_type": "code",
   "execution_count": 70,
   "metadata": {},
   "outputs": [
    {
     "name": "stdout",
     "output_type": "stream",
     "text": [
      "Time taken to test the model : 0.5255522727966309 s\n"
     ]
    }
   ],
   "source": [
    "#Predict the class label for the test data using the trained model\n",
    "start = time.time()\n",
    "y_pred_rf_te = clf_rf_te.predict(X_test_te)\n",
    "end = time.time()\n",
    "rt_1 = end-start\n",
    "print(\"Time taken to test the model :\",rt_1,\"s\")"
   ]
  },
  {
   "cell_type": "markdown",
   "metadata": {},
   "source": [
    "#### Random forest Classifier Report - Telugu"
   ]
  },
  {
   "cell_type": "code",
   "execution_count": 71,
   "metadata": {},
   "outputs": [
    {
     "name": "stdout",
     "output_type": "stream",
     "text": [
      "Accuracy =  83.14\n"
     ]
    }
   ],
   "source": [
    "#Computation of the accuracy score\n",
    "acc_rf_te = accuracy_score(y_test_te, y_pred_rf_te)\n",
    "print('Accuracy = ','%.2f'%(acc_rf_te*100))"
   ]
  },
  {
   "cell_type": "code",
   "execution_count": 72,
   "metadata": {},
   "outputs": [
    {
     "name": "stdout",
     "output_type": "stream",
     "text": [
      "              precision    recall  f1-score   support\n",
      "\n",
      "           0       0.84      0.13      0.23       481\n",
      "           1       0.95      0.13      0.23       163\n",
      "           2       0.83      1.00      0.91      2754\n",
      "\n",
      "    accuracy                           0.83      3398\n",
      "   macro avg       0.87      0.42      0.45      3398\n",
      "weighted avg       0.84      0.83      0.78      3398\n",
      "\n"
     ]
    }
   ],
   "source": [
    "from sklearn.metrics import classification_report\n",
    "rep_rf_te = classification_report(y_test_te, y_pred_rf_te, output_dict=True)\n",
    "rep1_rf_te = classification_report(y_test_te, y_pred_rf_te)\n",
    "\n",
    "macro_precision_rf_te =  rep_rf_te['macro avg']['precision'] \n",
    "macro_recall_rf_te = rep_rf_te['macro avg']['recall']    \n",
    "macro_f1_rf_te = rep_rf_te['macro avg']['f1-score']\n",
    "accuracy_rf_te = rep_rf_te['accuracy']\n",
    "\n",
    "print(rep1_rf_te)"
   ]
  },
  {
   "cell_type": "code",
   "execution_count": 73,
   "metadata": {},
   "outputs": [
    {
     "data": {
      "text/plain": [
       "<matplotlib.axes._subplots.AxesSubplot at 0x286f999d148>"
      ]
     },
     "execution_count": 73,
     "metadata": {},
     "output_type": "execute_result"
    },
    {
     "data": {
      "image/png": "[encoded data removed]",
      "text/plain": [
       "<Figure size 432x288 with 2 Axes>"
      ]
     },
     "metadata": {
      "needs_background": "light"
     },
     "output_type": "display_data"
    }
   ],
   "source": [
    "import scikitplot as skplt\n",
    "import matplotlib.pyplot as plt\n",
    "skplt.metrics.plot_confusion_matrix(y_test_te, y_pred_rf_te)"
   ]
  },
  {
   "cell_type": "code",
   "execution_count": 74,
   "metadata": {},
   "outputs": [
    {
     "data": {
      "image/png": "[encoded data removed]",
      "text/plain": [
       "<Figure size 432x288 with 2 Axes>"
      ]
     },
     "metadata": {
      "needs_background": "light"
     },
     "output_type": "display_data"
    }
   ],
   "source": [
    "plt.subplot(1,2,1)\n",
    "x=np.arange(3)\n",
    "plt.bar([0,1,2], height=[len(y_pred_rf_te[y_pred_rf_te==0]),len(y_pred_rf_te[y_pred_rf_te==1]),len(y_pred_rf_te[y_pred_rf_te==2])],)\n",
    "plt.xticks([0,1,2], ['Neutral','Negative','Positive'])\n",
    "plt.title(\" PREDICTED LABELS\")\n",
    "plt.ylabel(\"NO OF TEST DATA\")\n",
    "for index, value in enumerate([0,1,2]):\n",
    "    plt.text(value-0.2,len(y_pred_rf_te[y_pred_rf_te==value])+10 , str(len(y_pred_rf_te[y_pred_rf_te==value])))\n",
    "    \n",
    "plt.subplot(1,2,2)\n",
    "plt.bar(x, height=[len(y_test_te[y_test_te==0]),len(y_test_te[y_test_te==1]),len(y_test_te[y_test_te==2])],)\n",
    "plt.xticks(x, ['Neutral','Negative','Positive'])\n",
    "plt.title(\" ACTUAL LABELS\")\n",
    "for index, value in enumerate([0,1,2]):\n",
    "    plt.text(value-0.2,len(y_test_te[y_test_te==value])+10 , str(len(y_test_te[y_test_te==value])))"
   ]
  },
  {
   "cell_type": "markdown",
   "metadata": {},
   "source": [
    "#### Random forest Classifier - Bengali"
   ]
  },
  {
   "cell_type": "code",
   "execution_count": 75,
   "metadata": {},
   "outputs": [
    {
     "name": "stdout",
     "output_type": "stream",
     "text": [
      "Time taken to train the model : 261.762323141098 s\n"
     ]
    }
   ],
   "source": [
    "start = time.time()\n",
    "clf_rf_be = RandomForestClassifier(max_depth=200, random_state=0)\n",
    "clf_rf_be.fit(X_train_be, y_train_be)\n",
    "end = time.time()\n",
    "rb_0 = end-start\n",
    "print(\"Time taken to train the model :\",rb_0,\"s\")"
   ]
  },
  {
   "cell_type": "code",
   "execution_count": 76,
   "metadata": {},
   "outputs": [
    {
     "name": "stdout",
     "output_type": "stream",
     "text": [
      "Time taken to test the model : 1.9710659980773926 s\n"
     ]
    }
   ],
   "source": [
    "#Predict the class label for the test data using the trained model\n",
    "start = time.time()\n",
    "y_pred_rf_be = clf_rf_be.predict(X_test_be)\n",
    "end = time.time()\n",
    "rb_1 = end-start\n",
    "print(\"Time taken to test the model :\",rb_1,\"s\")"
   ]
  },
  {
   "cell_type": "markdown",
   "metadata": {},
   "source": [
    "#### Random forest Classifier Report - Bengali"
   ]
  },
  {
   "cell_type": "code",
   "execution_count": 77,
   "metadata": {},
   "outputs": [
    {
     "name": "stdout",
     "output_type": "stream",
     "text": [
      "Accuracy =  65.88\n"
     ]
    }
   ],
   "source": [
    "#Computation of the accuracy score\n",
    "acc_rf_be = accuracy_score(y_test_be, y_pred_rf_be)\n",
    "print('Accuracy = ','%.2f'%(acc_rf_be*100))"
   ]
  },
  {
   "cell_type": "code",
   "execution_count": 78,
   "metadata": {},
   "outputs": [
    {
     "name": "stdout",
     "output_type": "stream",
     "text": [
      "              precision    recall  f1-score   support\n",
      "\n",
      "           0       0.76      0.11      0.19      3219\n",
      "           1       0.80      0.01      0.02      1097\n",
      "           2       0.65      0.99      0.79      7590\n",
      "\n",
      "    accuracy                           0.66     11906\n",
      "   macro avg       0.74      0.37      0.33     11906\n",
      "weighted avg       0.70      0.66      0.55     11906\n",
      "\n"
     ]
    }
   ],
   "source": [
    "from sklearn.metrics import classification_report\n",
    "rep_rf_be = classification_report(y_test_be, y_pred_rf_be, output_dict=True)\n",
    "rep1_rf_be = classification_report(y_test_be, y_pred_rf_be)\n",
    "\n",
    "macro_precision_rf_be =  rep_rf_be['macro avg']['precision'] \n",
    "macro_recall_rf_be = rep_rf_be['macro avg']['recall']    \n",
    "macro_f1_rf_be = rep_rf_be['macro avg']['f1-score']\n",
    "accuracy_rf_be = rep_rf_be['accuracy']\n",
    "\n",
    "print(rep1_rf_be)"
   ]
  },
  {
   "cell_type": "code",
   "execution_count": 79,
   "metadata": {},
   "outputs": [
    {
     "data": {
      "text/plain": [
       "<matplotlib.axes._subplots.AxesSubplot at 0x286fa179cc8>"
      ]
     },
     "execution_count": 79,
     "metadata": {},
     "output_type": "execute_result"
    },
    {
     "data": {
      "image/png": "[encoded data removed]",
      "text/plain": [
       "<Figure size 432x288 with 2 Axes>"
      ]
     },
     "metadata": {
      "needs_background": "light"
     },
     "output_type": "display_data"
    }
   ],
   "source": [
    "import scikitplot as skplt\n",
    "import matplotlib.pyplot as plt\n",
    "skplt.metrics.plot_confusion_matrix(y_test_be, y_pred_rf_be)"
   ]
  },
  {
   "cell_type": "code",
   "execution_count": 80,
   "metadata": {},
   "outputs": [
    {
     "data": {
      "image/png": "[encoded data removed]",
      "text/plain": [
       "<Figure size 432x288 with 2 Axes>"
      ]
     },
     "metadata": {
      "needs_background": "light"
     },
     "output_type": "display_data"
    }
   ],
   "source": [
    "plt.subplot(1,2,1)\n",
    "x=np.arange(3)\n",
    "plt.bar([0,1,2], height=[len(y_pred_rf_be[y_pred_rf_be==0]),len(y_pred_rf_be[y_pred_rf_be==1]),len(y_pred_rf_be[y_pred_rf_be==2])],)\n",
    "plt.xticks([0,1,2], ['Neutral','Negative','Positive'])\n",
    "plt.title(\" PREDICTED LABELS\")\n",
    "plt.ylabel(\"NO OF TEST DATA\")\n",
    "for index, value in enumerate([0,1,2]):\n",
    "    plt.text(value-0.2,len(y_pred_rf_be[y_pred_rf_be==value])+10 , str(len(y_pred_rf_be[y_pred_rf_be==value])))\n",
    "    \n",
    "plt.subplot(1,2,2)\n",
    "plt.bar(x, height=[len(y_test_be[y_test_be==0]),len(y_test_be[y_test_be==1]),len(y_test_be[y_test_be==2])],)\n",
    "plt.xticks(x, ['Neutral','Negative','Positive'])\n",
    "plt.title(\" ACTUAL LABELS\")\n",
    "for index, value in enumerate([0,1,2]):\n",
    "    plt.text(value-0.2,len(y_test_be[y_test_be==value])+10 , str(len(y_test_be[y_test_be==value])))"
   ]
  },
  {
   "cell_type": "markdown",
   "metadata": {},
   "source": [
    "#### Random forest Classifier - Hindi"
   ]
  },
  {
   "cell_type": "code",
   "execution_count": null,
   "metadata": {},
   "outputs": [],
   "source": [
    "start = time.time()\n",
    "clf_rf_hi = RandomForestClassifier()\n",
    "clf_rf_hi.fit(X_train_hi, y_train_hi)\n",
    "end = time.time()\n",
    "rh_0 = end-start\n",
    "print(\"Time taken to train the model :\",rh_0,\"s\")"
   ]
  },
  {
   "cell_type": "code",
   "execution_count": null,
   "metadata": {},
   "outputs": [],
   "source": [
    "#Predict the class label for the test data using the trained model\n",
    "start = time.time()\n",
    "y_pred_rf_hi = clf_rf_hi.predict(X_test_hi)\n",
    "end = time.time()\n",
    "rh_1 = end-start\n",
    "print(\"Time taken to test the model :\",rh_1,\"s\")"
   ]
  },
  {
   "cell_type": "markdown",
   "metadata": {},
   "source": [
    "#### Random forest Classifier Report - Hindi"
   ]
  },
  {
   "cell_type": "code",
   "execution_count": null,
   "metadata": {},
   "outputs": [],
   "source": [
    "#Computation of the accuracy score\n",
    "acc_rf_hi = accuracy_score(y_test_hi, y_pred_rf_hi)\n",
    "print('Accuracy = ','%.2f'%(acc_rf_hi*100))"
   ]
  },
  {
   "cell_type": "code",
   "execution_count": null,
   "metadata": {},
   "outputs": [],
   "source": [
    "from sklearn.metrics import classification_report\n",
    "rep_rf_hi = classification_report(y_test_hi, y_pred_rf_hi, output_dict=True)\n",
    "rep1_rf_hi = classification_report(y_test_hi, y_pred_rf_hi)\n",
    "\n",
    "macro_precision_rf_hi =  rep_rf_hi['macro avg']['precision'] \n",
    "macro_recall_rf_hi = rep_rf_hi['macro avg']['recall']    \n",
    "macro_f1_rf_hi = rep_rf_hi['macro avg']['f1-score']\n",
    "accuracy_rf_hi = rep_rf_hi['accuracy']\n",
    "\n",
    "print(rep1_rf_hi)"
   ]
  },
  {
   "cell_type": "code",
   "execution_count": null,
   "metadata": {},
   "outputs": [],
   "source": [
    "import scikitplot as skplt\n",
    "import matplotlib.pyplot as plt\n",
    "skplt.metrics.plot_confusion_matrix(y_test_hi, y_pred_rf_hi)"
   ]
  },
  {
   "cell_type": "code",
   "execution_count": null,
   "metadata": {},
   "outputs": [],
   "source": [
    "plt.subplot(1,2,1)\n",
    "x=np.arange(3)\n",
    "plt.bar([0,1,2], height=[len(y_pred_rf_hi[y_pred_rf_hi==0]),len(y_pred_rf_hi[y_pred_rf_hi==1]),len(y_pred_rf_hi[y_pred_rf_hi==2])],)\n",
    "plt.xticks([0,1,2], ['Neutral','Negative','Positive'])\n",
    "plt.title(\" PREDICTED LABELS\")\n",
    "plt.ylabel(\"NO OF TEST DATA\")\n",
    "for index, value in enumerate([0,1,2]):\n",
    "    plt.text(value-0.2,len(y_pred_rf_hi[y_pred_rf_hi==value])+10 , str(len(y_pred_rf_hi[y_pred_rf_hi==value])))\n",
    "    \n",
    "plt.subplot(1,2,2)\n",
    "plt.bar(x, height=[len(y_test_hi[y_test_hi==0]),len(y_test_hi[y_test_hi==1]),len(y_test_hi[y_test_hi==2])],)\n",
    "plt.xticks(x, ['Neutral','Negative','Positive'])\n",
    "plt.title(\" ACTUAL LABELS\")\n",
    "for index, value in enumerate([0,1,2]):\n",
    "    plt.text(value-0.2,len(y_test_hi[y_test_hi==value])+10 , str(len(y_test_hi[y_test_hi==value])))"
   ]
  },
  {
   "cell_type": "markdown",
   "metadata": {},
   "source": [
    "### Result & Time Analysis - Telugu ###"
   ]
  },
  {
   "cell_type": "code",
   "execution_count": null,
   "metadata": {},
   "outputs": [],
   "source": [
    "a=np.arange(3)\n",
    "w = 0.15\n",
    "fig,ax=plt.subplots(figsize=(12,7),edgecolor='k')\n",
    "p1=ax.bar(a,[accuracy_knn_te,accuracy_dt_te,accuracy_rf_te],w,color='b')\n",
    "p2=ax.bar(a-w,[macro_precision_knn_te,macro_precision_dt_te,macro_precision_rf_te],w,color='g')\n",
    "p3=ax.bar(a-2*w,[macro_recall_knn_te,macro_recall_dt_te,macro_recall_rf_te],w,color='y')\n",
    "p4=ax.bar(a+w,[macro_f1_knn_te,macro_f1_dt_te,macro_f1_rf_te],w,color='r')\n",
    "ax.set_xticks(a)\n",
    "ax.set_xticklabels(('KNN','Decision tree','Random Forest Classifier'))\n",
    "ax.set_title('Comparision Between Classifiers - Telugu')\n",
    "ax.legend((p1[0],p2[0],p3[0],p4[0]),('Accuracy','Precision','Recall','F1-Score'))\n",
    "plt.xlabel('Classifiers - Telugu Data')\n",
    "plt.figure(figsize=(10,10))\n",
    "plt.show()"
   ]
  },
  {
   "cell_type": "code",
   "execution_count": null,
   "metadata": {},
   "outputs": [],
   "source": [
    "#class - time ana\n",
    "fig = plt.figure()\n",
    "ax = fig.add_axes([0,0,1,1])\n",
    "lang = ['KNN', 'Decision Tree', 'Random Forest Classifier']\n",
    "t_read = [kt_0,dt_0,rt_0]\n",
    "ax.bar(lang[0], t_read[0], color = 'b')\n",
    "ax.bar(lang[1], t_read[1], color = 'g')\n",
    "ax.bar(lang[2], t_read[2], color = 'r')\n",
    "for index, value in enumerate([0,1,2]):\n",
    "    plt.text(value-0.4,t_read[value], str(t_read[value]))\n",
    "plt.xlabel(\"Classifers - Telugu\")\n",
    "plt.ylabel(\"time in seconds\")\n",
    "plt.title(\"Runtime for model training\")\n",
    "plt.show()"
   ]
  },
  {
   "cell_type": "code",
   "execution_count": null,
   "metadata": {},
   "outputs": [],
   "source": [
    "#test - time ana\n",
    "fig = plt.figure()\n",
    "ax = fig.add_axes([0,0,1,1])\n",
    "lang = ['KNN', 'Decision Tree', 'Random Forest Classifier']\n",
    "t_read = [kt_1,dt_1,rt_1]\n",
    "ax.bar(lang[0], t_read[0], color = 'b')\n",
    "ax.bar(lang[1], t_read[1], color = 'g')\n",
    "ax.bar(lang[2], t_read[2], color = 'r')\n",
    "for index, value in enumerate([0,1,2]):\n",
    "    plt.text(value-0.4,t_read[value], str(t_read[value]))\n",
    "plt.xlabel(\"Classifers - Telugu\")\n",
    "plt.ylabel(\"time in seconds\")\n",
    "plt.title(\"Runtime for model testing\")\n",
    "plt.show()"
   ]
  },
  {
   "cell_type": "markdown",
   "metadata": {},
   "source": [
    "### Result & Time Analysis - Bengali ###"
   ]
  },
  {
   "cell_type": "code",
   "execution_count": 106,
   "metadata": {},
   "outputs": [
    {
     "data": {
      "image/png": "[encoded data removed]",
      "text/plain": [
       "<Figure size 864x504 with 1 Axes>"
      ]
     },
     "metadata": {
      "needs_background": "light"
     },
     "output_type": "display_data"
    },
    {
     "data": {
      "text/plain": [
       "<Figure size 720x720 with 0 Axes>"
      ]
     },
     "metadata": {},
     "output_type": "display_data"
    }
   ],
   "source": [
    "a=np.arange(3)\n",
    "w = 0.15\n",
    "fig,ax=plt.subplots(figsize=(12,7),edgecolor='k')\n",
    "p1=ax.bar(a,[accuracy_knn_be,accuracy_dt_be,accuracy_rf_be],w,color='b')\n",
    "p2=ax.bar(a-w,[macro_precision_knn_be,macro_precision_dt_be,macro_precision_rf_be],w,color='g')\n",
    "p3=ax.bar(a-2*w,[macro_recall_knn_be,macro_recall_dt_be,macro_recall_rf_be],w,color='y')\n",
    "p4=ax.bar(a+w,[macro_f1_knn_be,macro_f1_dt_be,macro_f1_rf_be],w,color='r')\n",
    "ax.set_xticks(a)\n",
    "ax.set_xticklabels(('KNN','Decision tree','Random Forest Classifier'))\n",
    "ax.set_title('Comparision Between Classifiers - Bengali')\n",
    "ax.legend((p1[0],p2[0],p3[0],p4[0]),('Accuracy','Precision','Recall','F1-Score'))\n",
    "plt.xlabel('Classifiers - Bengali Data')\n",
    "plt.figure(figsize=(10,10))\n",
    "plt.show()"
   ]
  },
  {
   "cell_type": "code",
   "execution_count": null,
   "metadata": {},
   "outputs": [],
   "source": [
    "#class - time ana\n",
    "fig = plt.figure()\n",
    "ax = fig.add_axes([0,0,1,1])\n",
    "lang = ['KNN', 'Decision Tree', 'Random Forest Classifier']\n",
    "t_read = [kb_0,db_0,rb_0]\n",
    "ax.bar(lang[0], t_read[0], color = 'b')\n",
    "ax.bar(lang[1], t_read[1], color = 'g')\n",
    "ax.bar(lang[2], t_read[2], color = 'r')\n",
    "for index, value in enumerate([0,1,2]):\n",
    "    plt.text(value-0.4,t_read[value], str(t_read[value]))\n",
    "plt.xlabel(\"Classifers - Bengali\")\n",
    "plt.ylabel(\"time in seconds\")\n",
    "plt.title(\"Runtime for model training\")\n",
    "plt.show()"
   ]
  },
  {
   "cell_type": "code",
   "execution_count": null,
   "metadata": {},
   "outputs": [],
   "source": [
    "#test - time ana\n",
    "fig = plt.figure()\n",
    "ax = fig.add_axes([0,0,1,1])\n",
    "lang = ['KNN', 'Decision Tree', 'Random Forest Classifier']\n",
    "t_read = [kb_1,db_1,rb_1]\n",
    "ax.bar(lang[0], t_read[0], color = 'b')\n",
    "ax.bar(lang[1], t_read[1], color = 'g')\n",
    "ax.bar(lang[2], t_read[2], color = 'r')\n",
    "for index, value in enumerate([0,1,2]):\n",
    "    plt.text(value-0.4,t_read[value], str(t_read[value]))\n",
    "plt.xlabel(\"Classifers - Bengali\")\n",
    "plt.ylabel(\"time in seconds\")\n",
    "plt.title(\"Runtime for model testing\")\n",
    "plt.show()"
   ]
  },
  {
   "cell_type": "markdown",
   "metadata": {},
   "source": [
    "### Result & Time Analysis - Hindi ###"
   ]
  },
  {
   "cell_type": "code",
   "execution_count": 104,
   "metadata": {},
   "outputs": [
    {
     "data": {
      "image/png": "[encoded data removed]",
      "text/plain": [
       "<Figure size 864x504 with 1 Axes>"
      ]
     },
     "metadata": {
      "needs_background": "light"
     },
     "output_type": "display_data"
    },
    {
     "data": {
      "text/plain": [
       "<Figure size 720x720 with 0 Axes>"
      ]
     },
     "metadata": {},
     "output_type": "display_data"
    }
   ],
   "source": [
    "a=np.arange(3)\n",
    "w = 0.15\n",
    "fig,ax=plt.subplots(figsize=(12,7),edgecolor='k')\n",
    "p1=ax.bar(a,[accuracy_knn_hi,accuracy_dt_hi,accuracy_rf_hi],w,color='b')\n",
    "p2=ax.bar(a-w,[macro_precision_knn_hi,macro_precision_dt_hi,macro_precision_rf_hi],w,color='g')\n",
    "p3=ax.bar(a-2*w,[macro_recall_knn_hi,macro_recall_dt_hi,macro_recall_rf_hi],w,color='y')\n",
    "p4=ax.bar(a+w,[macro_f1_knn_hi,macro_f1_dt_hi,macro_f1_rf_hi],w,color='r')\n",
    "ax.set_xticks(a)\n",
    "ax.set_xticklabels(('KNN','Decision tree','Random Forest Classifier'))\n",
    "ax.set_title('Comparision Between Classifiers - Hindi')\n",
    "ax.legend((p1[0],p2[0],p3[0],p4[0]),('Accuracy','Precision','Recall','F1-Score'))\n",
    "plt.xlabel('Classifiers - Hindi Data')\n",
    "plt.figure(figsize=(10,10))\n",
    "plt.show()"
   ]
  },
  {
   "cell_type": "code",
   "execution_count": null,
   "metadata": {},
   "outputs": [],
   "source": [
    "#class - time ana\n",
    "fig = plt.figure()\n",
    "ax = fig.add_axes([0,0,1,1])\n",
    "lang = ['KNN', 'Decision Tree', 'Random Forest Classifier']\n",
    "t_read = [kh_0,dh_0,rh_0]\n",
    "ax.bar(lang[0], t_read[0], color = 'b')\n",
    "ax.bar(lang[1], t_read[1], color = 'g')\n",
    "ax.bar(lang[2], t_read[2], color = 'r')\n",
    "for index, value in enumerate([0,1,2]):\n",
    "    plt.text(value-0.4,t_read[value], str(t_read[value]))\n",
    "plt.xlabel(\"Classifers - Hindi\")\n",
    "plt.ylabel(\"time in seconds\")\n",
    "plt.title(\"Runtime for model training\")\n",
    "plt.show()"
   ]
  },
  {
   "cell_type": "code",
   "execution_count": null,
   "metadata": {},
   "outputs": [],
   "source": [
    "#test - time ana\n",
    "fig = plt.figure()\n",
    "ax = fig.add_axes([0,0,1,1])\n",
    "lang = ['KNN', 'Decision Tree', 'Random Forest Classifier']\n",
    "t_read = [kh_1,dh_1,rh_1]\n",
    "ax.bar(lang[0], t_read[0], color = 'b')\n",
    "ax.bar(lang[1], t_read[1], color = 'g')\n",
    "ax.bar(lang[2], t_read[2], color = 'r')\n",
    "for index, value in enumerate([0,1,2]):\n",
    "    plt.text(value-0.4,t_read[value], str(t_read[value]))\n",
    "plt.xlabel(\"Classifers - Hindi\")\n",
    "plt.ylabel(\"time in seconds\")\n",
    "plt.title(\"Runtime for model testing\")\n",
    "plt.show()"
   ]
  },
  {
   "cell_type": "code",
   "execution_count": 119,
   "metadata": {},
   "outputs": [],
   "source": [
    "vectorizer=[vectorizer_te,0,0,vectorizer_be,0,0,vectorizer_hi,0,0]\n",
    "Classifiers=[clf_knn_te,clf_dt_te,clf_rf_te,clf_knn_be,clf_dt_be,clf_rf_be,clf_knn_hi,clf_dt_hi,clf_rf_hi]\n",
    "def predict():\n",
    "    #ans = remove_punct(str(textArea.get(\"1.0\",\"end\")))\n",
    "    for i in range(0,9,3):\n",
    "        if(i==0):\n",
    "            ans = remove_punct_te(str(textArea.get(\"1.0\",\"end\")))\n",
    "        if(i==3):\n",
    "            ans = remove_punct_be(str(textArea.get(\"1.0\",\"end\")))\n",
    "        if(i==6):\n",
    "            ans = remove_punct_hi(str(textArea.get(\"1.0\",\"end\")))\n",
    "        if(int(var.get())==i):\n",
    "            X1 = vectorizer[i].transform([ans])\n",
    "            \n",
    "            for j in range(1,4):\n",
    "                if(int(var1.get())==j):\n",
    "                    pred=Classifiers[i+j-1].predict(X1)\n",
    "                    \n",
    "                    if(pred==0):\n",
    "                        Label(gui, text =\"The predicted Tweet is Neutral\").place(x=120,y=320)\n",
    "                        photo0 = PhotoImage(file = r\"Sentiment_analysis_classPNGS/neu.png\") \n",
    "                        photoimage0 = photo0.subsample(3, 3) \n",
    "                        Button(gui, image = photoimage0).place(x=150,y=350)\n",
    "                        Button.pack()\n",
    "                    if(pred==1):\n",
    "                        Label(gui, text =\"The predicted Tweet is Negative\" ).place(x=120,y=320)\n",
    "                        photo1= PhotoImage(file = r\"Sentiment_analysis_classPNGS/neg.png\") \n",
    "                        photoimage1 = photo1.subsample(3, 3) \n",
    "                        Button(gui, image = photoimage1).place(x=120,y=350) \n",
    "                        Button.pack()\n",
    "                    if(pred==2):\n",
    "                        Label(gui, text =\"The predicted Tweet is Positive\" ).place(x=120,y=320)\n",
    "                        photo2 = PhotoImage(file = r\"Sentiment_analysis_classPNGS/pos.png\") \n",
    "                        photoimage2 = photo2.subsample(3, 3) \n",
    "                        Button(gui, image = photoimage2).place(x=120,y=350) \n",
    "                        Button.pack()"
   ]
  },
  {
   "cell_type": "code",
   "execution_count": 121,
   "metadata": {},
   "outputs": [],
   "source": [
    "from matplotlib.figure import Figure \n",
    "from matplotlib.backends.backend_tkagg import (FigureCanvasTkAgg,  \n",
    "NavigationToolbar2Tk)\n",
    "import tkinter as tk\n",
    "from pandas import DataFrame\n",
    "import matplotlib.pyplot as plt\n",
    "from matplotlib.backends.backend_tkagg import FigureCanvasTkAgg\n",
    "import tkinter as tk\n",
    "from tkinter import *\n",
    "from matplotlib.figure import Figure \n",
    "\n",
    "\n",
    "gui = Tk()\n",
    "gui.title(\"Sentiment Analysis - Report\")\n",
    "gui.geometry('480x550')\n",
    "\n",
    "Accuracy=[accuracy_knn_te,accuracy_dt_te,accuracy_rf_te,accuracy_knn_be,accuracy_dt_be,accuracy_rf_be,accuracy_knn_hi,accuracy_dt_hi,accuracy_rf_hi]\n",
    "Precision=[macro_precision_knn_te ,macro_precision_dt_te ,macro_precision_rf_te ,macro_precision_knn_be ,macro_precision_dt_be ,macro_precision_rf_be ,macro_precision_knn_hi ,macro_precision_dt_hi ,macro_precision_rf_hi]\n",
    "Recall=[macro_recall_knn_te ,macro_recall_dt_te ,macro_recall_rf_te ,macro_recall_knn_be ,macro_recall_dt_be ,macro_recall_rf_be ,macro_recall_knn_hi ,macro_recall_dt_hi ,macro_recall_rf_hi]\n",
    "F1_score=[macro_f1_knn_te,macro_f1_dt_te,macro_f1_rf_te,macro_f1_knn_be,macro_f1_dt_be,macro_f1_rf_be,macro_f1_knn_hi,macro_f1_dt_hi,macro_f1_rf_hi]\n",
    "def sel():\n",
    "    for i in range(0,9,3):\n",
    "        if(int(var.get())==i):\n",
    "            for j in range(1,4):\n",
    "                if(int(var1.get())==j):\n",
    "                    Label(gui, text =str(Accuracy[i+j-1])). place(x=300,y=50)\n",
    "                    Label(gui, text =str(Precision[i+j-1])). place(x=300,y=75)\n",
    "                    Label(gui, text =str(Recall[i+j-1])). place(x=300,y=100)\n",
    "                    Label(gui, text =str(F1_score[i+j-1])). place(x=300,y=125)\n",
    "            \n",
    "\n",
    "var = IntVar()\n",
    "lbl = Label(gui,text = \"Language \")\n",
    "lbl.pack(anchor = W  )\n",
    "lbl.place(x=0,y=25)\n",
    "\n",
    "R1 = Radiobutton(gui, text=\"Telugu\", variable=var, value=0,command=sel)\n",
    "R1.pack( anchor = W )\n",
    "R1.place(x=0,y=50)\n",
    "R2 = Radiobutton(gui, text=\"Bengali\", variable=var, value=3,command=sel)\n",
    "R2.pack( anchor = W )\n",
    "R2.place(x=0,y=70)\n",
    "R3 = Radiobutton(gui, text=\"Hindi\", variable=var, value=6,command=sel)\n",
    "R3.pack( anchor = W)\n",
    "R3.place(x=0,y=90)\n",
    "\n",
    "lbl = Label(gui,text = \"Algorithm\") \n",
    "lbl.pack(anchor = W )\n",
    "lbl.place(x=0,y=135)\n",
    "var1 = IntVar()\n",
    "R11 = Radiobutton(gui, text=\"KNN\", variable=var1, value=1,command=sel)\n",
    "R11.pack( anchor = W )\n",
    "R11.place(x=0,y=160)\n",
    "R12 = Radiobutton(gui, text=\"Decision Tree\", variable=var1, value=2,command=sel)\n",
    "R12.pack( anchor = W )\n",
    "R12.place(x=0,y=180)\n",
    "R13 = Radiobutton(gui, text=\"Random Forest\", variable=var1, value=3,command=sel)\n",
    "R13.pack( anchor = W)\n",
    "R13.place(x=0,y=200)\n",
    "\n",
    "Label(gui, text = \"Evaluation metrics  :\").place(x=200,y=25)\n",
    "Label(gui, text = \"Accuracy :\").place(x=230,y=50)\n",
    "Label(gui, text = \"Precision\").place(x=230,y=75)\n",
    "Label(gui, text = \"Recall   : \").place(x=230,y=100)\n",
    "Label(gui, text = \"F1_Score : \").place(x=230,y=125)\n",
    "\n",
    "Label(gui, text = \"Enter Tweets: \").place(x=25,y=250)\n",
    "\n",
    "textArea = Text(gui, height = 2, width = 25, font = \"cambria 13\")\n",
    "textArea.place(x=100,y=250)\n",
    "run_button = Button(gui,  command = predict, text = \"predict\")\n",
    "run_button.pack() \n",
    "run_button.place(x=340,y=255)\n",
    "#Label(gui, text = \"F1_Score : \").place(x=500,y=125)\n",
    "#Accuracy = Entry(gui,bd=5).place(x=300,y=50)\n",
    "#Precision = Entry(gui).place(x=300,y=75)\n",
    "#Recall = Entry(gui).place(x=300,y=100)\n",
    "#F1_Score = Entry(gui).place(x=300,y=125)\n",
    "\n",
    "# button that displays the plot \n",
    "###plot_button = Button(gui,  \n",
    "                     #command = plot, \n",
    "                     #height = 2,  \n",
    "                     #width = 10, \n",
    "                     \n",
    "                     #text = \"Plot\")\n",
    "  \n",
    "# place the button  \n",
    "# in main window \n",
    "\n",
    "#plot_button.pack() \"\"\n",
    "#plot_button.place(x=250,y=250)\n",
    "\n",
    "\n",
    "label = Label(gui)\n",
    "#label.pack()\n",
    "gui.mainloop()"
   ]
  },
  {
   "cell_type": "code",
   "execution_count": null,
   "metadata": {},
   "outputs": [],
   "source": [
    "#సమయం లేదు మిత్రమా... థియేటరా? యూట్యూబా? 40 Mints TO GO NBK #GPSTrailerStorm #GPSKTrailerPhenom\n",
    "#ఈరోజు పుట్టిన రోజు జరుపుకుంటున్న మా అభిమాన హీరోకి ఇవే మా హృదయపూర్వక జన్మదిన శుభాకాంక్షలు.. #ప్రభాస్\n",
    "#అందరు అంటారు నిజం ఎప్పుడు ఒడిపోదు అని కానీ అబద్దం కూడా ఎప్పుడు ఒడిపోదు గా"
   ]
  }
 ],
 "metadata": {
  "kernelspec": {
   "display_name": "Python 3",
   "language": "python",
   "name": "python3"
  },
  "language_info": {
   "codemirror_mode": {
    "name": "ipython",
    "version": 3
   },
   "file_extension": ".py",
   "mimetype": "text/x-python",
   "name": "python",
   "nbconvert_exporter": "python",
   "pygments_lexer": "ipython3",
   "version": "3.9.1"
  }
 },
 "nbformat": 4,
 "nbformat_minor": 2
}
